{
  "nbformat": 4,
  "nbformat_minor": 0,
  "metadata": {
    "colab": {
      "name": "Copy of Python 101.ipynb",
      "provenance": [],
      "collapsed_sections": [],
      "include_colab_link": true
    },
    "kernelspec": {
      "name": "python3",
      "display_name": "Python 3"
    },
    "language_info": {
      "name": "python"
    }
  },
  "cells": [
    {
      "cell_type": "markdown",
      "metadata": {
        "id": "view-in-github",
        "colab_type": "text"
      },
      "source": [
        "<a href=\"https://colab.research.google.com/github/dhruv369/Assignment/blob/main/Python_101.ipynb\" target=\"_parent\"><img src=\"https://colab.research.google.com/assets/colab-badge.svg\" alt=\"Open In Colab\"/></a>"
      ]
    },
    {
      "cell_type": "markdown",
      "metadata": {
        "id": "80jIOc4NbBWT"
      },
      "source": [
        "# Python 101 Session\n",
        "\n"
      ]
    },
    {
      "cell_type": "code",
      "metadata": {
        "id": "Fa_wI7r6RFIH"
      },
      "source": [
        "a = [1, 2, 3]"
      ],
      "execution_count": null,
      "outputs": []
    },
    {
      "cell_type": "code",
      "metadata": {
        "id": "WBlACsZAgDur"
      },
      "source": [
        "a = [1, \n",
        "     2, \n",
        "     3]"
      ],
      "execution_count": null,
      "outputs": []
    },
    {
      "cell_type": "code",
      "metadata": {
        "id": "zuS9E6VjgNiy"
      },
      "source": [
        "a = [1, # first value of the index\n",
        "     2, # first day calcution start\n",
        "     3]"
      ],
      "execution_count": null,
      "outputs": []
    },
    {
      "cell_type": "code",
      "metadata": {
        "id": "D3DRDUzagVLs"
      },
      "source": [
        "a = [1, # first value of the index\n",
        "     2, # first day calcution start\n",
        "     3 # index for change \n",
        "     ]"
      ],
      "execution_count": null,
      "outputs": []
    },
    {
      "cell_type": "code",
      "metadata": {
        "id": "9L4pXDV0gbx2"
      },
      "source": [
        "t = (1, # first value of the index\n",
        "     2, # first day calcution start\n",
        "     3)"
      ],
      "execution_count": null,
      "outputs": []
    },
    {
      "cell_type": "code",
      "metadata": {
        "colab": {
          "base_uri": "https://localhost:8080/"
        },
        "id": "3hRkVvUdggV7",
        "outputId": "379444f5-4dc3-4e98-cefd-cb5ae7e41381"
      },
      "source": [
        "a[2], t[1]"
      ],
      "execution_count": null,
      "outputs": [
        {
          "output_type": "execute_result",
          "data": {
            "text/plain": [
              "(3, 2)"
            ]
          },
          "metadata": {},
          "execution_count": 12
        }
      ]
    },
    {
      "cell_type": "code",
      "metadata": {
        "id": "QnPGOAhqgkPM"
      },
      "source": [
        "a[2] = \"rohan\""
      ],
      "execution_count": null,
      "outputs": []
    },
    {
      "cell_type": "code",
      "metadata": {
        "colab": {
          "base_uri": "https://localhost:8080/",
          "height": 171
        },
        "id": "GJjW_r4IgojP",
        "outputId": "a5a417fb-2c42-4986-822c-b05c876a8eed"
      },
      "source": [
        "t[2] = \"rohan\""
      ],
      "execution_count": null,
      "outputs": [
        {
          "output_type": "error",
          "ename": "TypeError",
          "evalue": "ignored",
          "traceback": [
            "\u001b[0;31m---------------------------------------------------------------------------\u001b[0m",
            "\u001b[0;31mTypeError\u001b[0m                                 Traceback (most recent call last)",
            "\u001b[0;32m<ipython-input-14-8e5fe1fd2d98>\u001b[0m in \u001b[0;36m<module>\u001b[0;34m()\u001b[0m\n\u001b[0;32m----> 1\u001b[0;31m \u001b[0mt\u001b[0m\u001b[0;34m[\u001b[0m\u001b[0;36m2\u001b[0m\u001b[0;34m]\u001b[0m \u001b[0;34m=\u001b[0m \u001b[0;34m\"rohan\"\u001b[0m\u001b[0;34m\u001b[0m\u001b[0;34m\u001b[0m\u001b[0m\n\u001b[0m",
            "\u001b[0;31mTypeError\u001b[0m: 'tuple' object does not support item assignment"
          ]
        }
      ]
    },
    {
      "cell_type": "code",
      "metadata": {
        "id": "MGfVxkOogt2F"
      },
      "source": [
        " d = {\n",
        "     'key1': 'value1', # this is the first pair\n",
        "      'key2': 2, # the second pair\n",
        "      'key3': \"rohan\" # third pair\n",
        " }"
      ],
      "execution_count": null,
      "outputs": []
    },
    {
      "cell_type": "code",
      "metadata": {
        "id": "BtUh_HDnhg4D"
      },
      "source": [
        "def my_func(a,  # this is the parameter for number of epochs\n",
        "            b,  # this is the learning rate\n",
        "            c   # this is the loss function use\n",
        "            ):\n",
        "  print(a, b, c)"
      ],
      "execution_count": null,
      "outputs": []
    },
    {
      "cell_type": "code",
      "metadata": {
        "colab": {
          "base_uri": "https://localhost:8080/"
        },
        "id": "8DVxRwX3h6Na",
        "outputId": "47d1a78f-4308-4e3d-874f-41941b909c76"
      },
      "source": [
        "my_func(102, 103, 104)"
      ],
      "execution_count": null,
      "outputs": [
        {
          "output_type": "stream",
          "name": "stdout",
          "text": [
            "102 103 104\n"
          ]
        }
      ]
    },
    {
      "cell_type": "code",
      "metadata": {
        "colab": {
          "base_uri": "https://localhost:8080/"
        },
        "id": "k_dhZ1Jth9qw",
        "outputId": "939355f6-1779-4253-8d1b-4bc5e34b7298"
      },
      "source": [
        "my_func(102, # this is the number I saw online\n",
        "        103, # this is the best number working for me\n",
        "        104)"
      ],
      "execution_count": null,
      "outputs": [
        {
          "output_type": "stream",
          "name": "stdout",
          "text": [
            "102 103 104\n"
          ]
        }
      ]
    },
    {
      "cell_type": "code",
      "metadata": {
        "colab": {
          "base_uri": "https://localhost:8080/"
        },
        "id": "wUkwcPMUiCzi",
        "outputId": "00acad09-f353-4526-f660-a742caf74db9"
      },
      "source": [
        "a = 10\n",
        "b = 20\n",
        "c = 30\n",
        "\n",
        "if a > 5 and b > 10 and c > 20:\n",
        "  print(\"YES!!\")"
      ],
      "execution_count": null,
      "outputs": [
        {
          "output_type": "stream",
          "name": "stdout",
          "text": [
            "YES!!\n"
          ]
        }
      ]
    },
    {
      "cell_type": "code",
      "metadata": {
        "colab": {
          "base_uri": "https://localhost:8080/"
        },
        "id": "7DAL5dbCiN8k",
        "outputId": "6c5fff7c-2de1-477d-e5ee-e51ca161c1ab"
      },
      "source": [
        "a = 10\n",
        "b = 20\n",
        "c = 30\n",
        "\n",
        "if a > 5 \\\n",
        "    and b > 10 \\\n",
        "    and c > 20:\n",
        "  print(\"YES!!\")"
      ],
      "execution_count": null,
      "outputs": [
        {
          "output_type": "stream",
          "name": "stdout",
          "text": [
            "YES!!\n"
          ]
        }
      ]
    },
    {
      "cell_type": "code",
      "metadata": {
        "colab": {
          "base_uri": "https://localhost:8080/",
          "height": 35
        },
        "id": "W1zL51s0iTJV",
        "outputId": "846b2882-98c0-4c12-9667-92cb51f491c0"
      },
      "source": [
        "\"\"\"\n",
        "This is a\n",
        "multi line string\n",
        "that can be written\n",
        "in multiple \n",
        "lines\n",
        "\"\"\""
      ],
      "execution_count": null,
      "outputs": [
        {
          "output_type": "execute_result",
          "data": {
            "application/vnd.google.colaboratory.intrinsic+json": {
              "type": "string"
            },
            "text/plain": [
              "'\\nThis is a\\nmulti line string\\nthat can be written\\nin multiple \\nlines\\n'"
            ]
          },
          "metadata": {},
          "execution_count": 28
        }
      ]
    },
    {
      "cell_type": "code",
      "metadata": {
        "colab": {
          "base_uri": "https://localhost:8080/",
          "height": 35
        },
        "id": "fBtYm6YNidLP",
        "outputId": "fd753941-d1ff-4c65-ba8b-41be1a87f766"
      },
      "source": [
        "a = \"\"\"\n",
        "This is a\n",
        "multi line string\n",
        "that can be written\n",
        "in multiple \n",
        "lines\n",
        "\"\"\"\n",
        "a"
      ],
      "execution_count": null,
      "outputs": [
        {
          "output_type": "execute_result",
          "data": {
            "application/vnd.google.colaboratory.intrinsic+json": {
              "type": "string"
            },
            "text/plain": [
              "'\\nThis is a\\nmulti line string\\nthat can be written\\nin multiple \\nlines\\n'"
            ]
          },
          "metadata": {},
          "execution_count": 31
        }
      ]
    },
    {
      "cell_type": "code",
      "metadata": {
        "id": "xnbZxhbBiq33"
      },
      "source": [
        "a = '''\n",
        "This is a\n",
        "multi line string\n",
        "that can be written\n",
        "in multiple \n",
        "lines\n",
        "'''"
      ],
      "execution_count": null,
      "outputs": []
    },
    {
      "cell_type": "code",
      "metadata": {
        "colab": {
          "base_uri": "https://localhost:8080/"
        },
        "id": "PxN2NUhxiy_n",
        "outputId": "4bb64e69-a528-4299-dc70-1d1b1a5bec90"
      },
      "source": [
        "def my_func():\n",
        "  a = ''' a multi-line string\n",
        "          that is written in \n",
        "          multiple lines\n",
        "      '''\n",
        "  return a \n",
        "print(my_func())"
      ],
      "execution_count": null,
      "outputs": [
        {
          "output_type": "stream",
          "name": "stdout",
          "text": [
            " a multi-line string\n",
            "          that is written in \n",
            "          multiple lines\n",
            "      \n"
          ]
        }
      ]
    },
    {
      "cell_type": "code",
      "metadata": {
        "colab": {
          "base_uri": "https://localhost:8080/",
          "height": 143
        },
        "id": "d0AwAa9qi_GZ",
        "outputId": "efb317ec-a3e1-4cb7-fbeb-7a344d2e4ead"
      },
      "source": [
        "\"\"\"\n",
        "This is a\n",
        "multi line string\n",
        "that can be written\n",
        "in multiple \n",
        "linesThis is a\n",
        "multi line string\n",
        "that can be written\n",
        "in multiple \n",
        "linesThis is a\n",
        "multi line string\n",
        "that can be written\n",
        "in multiple \n",
        "linesThis is a\n",
        "multi line string\n",
        "that can be written\n",
        "in multiple \n",
        "linesThis is a\n",
        "multi line string\n",
        "that can be written\n",
        "in multiple \n",
        "linesThis is a\n",
        "multi line string\n",
        "that can be written\n",
        "in multiple \n",
        "linesThis is a\n",
        "multi line string\n",
        "that can be written\n",
        "in multiple \n",
        "linesThis is a\n",
        "multi line string\n",
        "that can be written\n",
        "in multiple \n",
        "linesThis is a\n",
        "multi line string\n",
        "that can be written\n",
        "in multiple \n",
        "linesThis is a\n",
        "multi line string\n",
        "that can be written\n",
        "in multiple \n",
        "linesThis is a\n",
        "multi line string\n",
        "that can be written\n",
        "in multiple \n",
        "linesThis is a\n",
        "multi line string\n",
        "that can be written\n",
        "in multiple \n",
        "linesThis is a\n",
        "multi line string\n",
        "that can be written\n",
        "in multiple \n",
        "lines\n",
        "\"\"\""
      ],
      "execution_count": null,
      "outputs": [
        {
          "output_type": "execute_result",
          "data": {
            "application/vnd.google.colaboratory.intrinsic+json": {
              "type": "string"
            },
            "text/plain": [
              "'\\nThis is a\\nmulti line string\\nthat can be written\\nin multiple \\nlinesThis is a\\nmulti line string\\nthat can be written\\nin multiple \\nlinesThis is a\\nmulti line string\\nthat can be written\\nin multiple \\nlinesThis is a\\nmulti line string\\nthat can be written\\nin multiple \\nlinesThis is a\\nmulti line string\\nthat can be written\\nin multiple \\nlinesThis is a\\nmulti line string\\nthat can be written\\nin multiple \\nlinesThis is a\\nmulti line string\\nthat can be written\\nin multiple \\nlinesThis is a\\nmulti line string\\nthat can be written\\nin multiple \\nlinesThis is a\\nmulti line string\\nthat can be written\\nin multiple \\nlinesThis is a\\nmulti line string\\nthat can be written\\nin multiple \\nlinesThis is a\\nmulti line string\\nthat can be written\\nin multiple \\nlinesThis is a\\nmulti line string\\nthat can be written\\nin multiple \\nlinesThis is a\\nmulti line string\\nthat can be written\\nin multiple \\nlines\\n'"
            ]
          },
          "metadata": {},
          "execution_count": 36
        }
      ]
    },
    {
      "cell_type": "code",
      "metadata": {
        "id": "Y9OUTz11jKSM"
      },
      "source": [
        "# this is me trying \n",
        "# to make a multi line\n",
        "# comment"
      ],
      "execution_count": null,
      "outputs": []
    },
    {
      "cell_type": "code",
      "metadata": {
        "colab": {
          "base_uri": "https://localhost:8080/"
        },
        "id": "H5ZQapemjWQE",
        "outputId": "088d1cc5-f534-446f-88d9-fcce981997b0"
      },
      "source": [
        "a = 2\n",
        "if a < 3:\n",
        "  print('a < 3')\n",
        "else: \n",
        "  print('a > 3')"
      ],
      "execution_count": null,
      "outputs": [
        {
          "output_type": "stream",
          "name": "stdout",
          "text": [
            "a < 3\n"
          ]
        }
      ]
    },
    {
      "cell_type": "code",
      "metadata": {
        "colab": {
          "base_uri": "https://localhost:8080/"
        },
        "id": "c1uxK04IjeJ1",
        "outputId": "cc83c37e-f870-4c54-db02-8df8ea4cee9d"
      },
      "source": [
        "a = 15\n",
        "if a < 5:\n",
        "  print('a < 5')\n",
        "else: \n",
        "  if a < 10:\n",
        "    print(\"5 <= a <= 10\")\n",
        "  else:\n",
        "    print('a > 10')"
      ],
      "execution_count": null,
      "outputs": [
        {
          "output_type": "stream",
          "name": "stdout",
          "text": [
            "a > 10\n"
          ]
        }
      ]
    },
    {
      "cell_type": "code",
      "metadata": {
        "colab": {
          "base_uri": "https://localhost:8080/"
        },
        "id": "4rkyE5fpjucQ",
        "outputId": "a7bb261e-5e3b-427d-af29-f75395d32ddd"
      },
      "source": [
        "a = 15\n",
        "if a < 5:\n",
        "  print('a < 5')\n",
        "elif a < 10:\n",
        "  print(\"5 <= a <= 10\")\n",
        "else:\n",
        "  print('a > 10')"
      ],
      "execution_count": null,
      "outputs": [
        {
          "output_type": "stream",
          "name": "stdout",
          "text": [
            "a > 10\n"
          ]
        }
      ]
    },
    {
      "cell_type": "code",
      "metadata": {
        "colab": {
          "base_uri": "https://localhost:8080/",
          "height": 35
        },
        "id": "j2-1ENrqjz00",
        "outputId": "59a08af6-f3cb-4037-ccdd-2f7d32b461eb"
      },
      "source": [
        "import sys\n",
        "sys.version"
      ],
      "execution_count": null,
      "outputs": [
        {
          "output_type": "execute_result",
          "data": {
            "application/vnd.google.colaboratory.intrinsic+json": {
              "type": "string"
            },
            "text/plain": [
              "'3.7.12 (default, Sep 10 2021, 00:21:48) \\n[GCC 7.5.0]'"
            ]
          },
          "metadata": {},
          "execution_count": 42
        }
      ]
    },
    {
      "cell_type": "code",
      "metadata": {
        "colab": {
          "base_uri": "https://localhost:8080/"
        },
        "id": "J8ukXzzHkbkb",
        "outputId": "d23470e0-4138-4b5e-9315-1a8cca36fde1"
      },
      "source": [
        "a = 5\n",
        "res = 'a < 10' if a < 10 else 'a > 10'\n",
        "print(res)"
      ],
      "execution_count": null,
      "outputs": [
        {
          "output_type": "stream",
          "name": "stdout",
          "text": [
            "a < 10\n"
          ]
        }
      ]
    },
    {
      "cell_type": "code",
      "metadata": {
        "id": "ZM-q1hwSknWN"
      },
      "source": [
        "def left():\n",
        "   return \"LEFT\"\n",
        "\n",
        "def right():\n",
        "   return 'RIGHT'"
      ],
      "execution_count": null,
      "outputs": []
    },
    {
      "cell_type": "code",
      "metadata": {
        "colab": {
          "base_uri": "https://localhost:8080/"
        },
        "id": "v2nWDkpIkwJU",
        "outputId": "2d81541d-9add-4e31-c53c-195e3899954c"
      },
      "source": [
        "a = 5\n",
        "res = left() if a < 10 else right()\n",
        "\n",
        "print(res)"
      ],
      "execution_count": null,
      "outputs": [
        {
          "output_type": "stream",
          "name": "stdout",
          "text": [
            "LEFT\n"
          ]
        }
      ]
    },
    {
      "cell_type": "code",
      "metadata": {
        "colab": {
          "base_uri": "https://localhost:8080/"
        },
        "id": "nmxUnNlyk1Xc",
        "outputId": "9bffa242-4e60-4698-b5e0-0a52c5bf2d73"
      },
      "source": [
        "def center():\n",
        "  pass\n",
        "print(center())"
      ],
      "execution_count": null,
      "outputs": [
        {
          "output_type": "stream",
          "name": "stdout",
          "text": [
            "None\n"
          ]
        }
      ]
    },
    {
      "cell_type": "code",
      "metadata": {
        "colab": {
          "base_uri": "https://localhost:8080/"
        },
        "id": "kr-VNGkOk-HK",
        "outputId": "13da41e9-b22e-4921-ad17-c525b643d043"
      },
      "source": [
        "l = [1, 2, 3]\n",
        "len(l)"
      ],
      "execution_count": null,
      "outputs": [
        {
          "output_type": "execute_result",
          "data": {
            "text/plain": [
              "3"
            ]
          },
          "metadata": {},
          "execution_count": 50
        }
      ]
    },
    {
      "cell_type": "code",
      "metadata": {
        "colab": {
          "base_uri": "https://localhost:8080/"
        },
        "id": "Srtc70MylLL_",
        "outputId": "88522e3f-eb02-4f82-d72f-c619bf77e787"
      },
      "source": [
        "from math import sqrt\n",
        "\n",
        "sqrt(5.6)"
      ],
      "execution_count": null,
      "outputs": [
        {
          "output_type": "execute_result",
          "data": {
            "text/plain": [
              "2.3664319132398464"
            ]
          },
          "metadata": {},
          "execution_count": 51
        }
      ]
    },
    {
      "cell_type": "code",
      "metadata": {
        "colab": {
          "base_uri": "https://localhost:8080/"
        },
        "id": "y1wLsRuHlOsm",
        "outputId": "443597df-c934-40d4-cc8b-134be83e52a1"
      },
      "source": [
        "import math\n",
        "math.sqrt(4)"
      ],
      "execution_count": null,
      "outputs": [
        {
          "output_type": "execute_result",
          "data": {
            "text/plain": [
              "2.0"
            ]
          },
          "metadata": {},
          "execution_count": 52
        }
      ]
    },
    {
      "cell_type": "code",
      "metadata": {
        "id": "zm8xTynjlSgK"
      },
      "source": [
        "def func_1():\n",
        "  print(\"some printing\")"
      ],
      "execution_count": null,
      "outputs": []
    },
    {
      "cell_type": "code",
      "metadata": {
        "colab": {
          "base_uri": "https://localhost:8080/"
        },
        "id": "IpDkRwDglVdM",
        "outputId": "9d53f0ed-d6b5-4129-f7ba-12ff85cad75b"
      },
      "source": [
        "func_1"
      ],
      "execution_count": null,
      "outputs": [
        {
          "output_type": "execute_result",
          "data": {
            "text/plain": [
              "<function __main__.func_1>"
            ]
          },
          "metadata": {},
          "execution_count": 54
        }
      ]
    },
    {
      "cell_type": "code",
      "metadata": {
        "colab": {
          "base_uri": "https://localhost:8080/"
        },
        "id": "tILB_2OplWhQ",
        "outputId": "206499e9-697d-4fda-cd71-d37b31583670"
      },
      "source": [
        "func_1()"
      ],
      "execution_count": null,
      "outputs": [
        {
          "output_type": "stream",
          "name": "stdout",
          "text": [
            "some printing\n"
          ]
        }
      ]
    },
    {
      "cell_type": "code",
      "metadata": {
        "id": "trVpNu24lXu7"
      },
      "source": [
        "def my_func(a, b):\n",
        "  print(a, b)"
      ],
      "execution_count": null,
      "outputs": []
    },
    {
      "cell_type": "code",
      "metadata": {
        "colab": {
          "base_uri": "https://localhost:8080/"
        },
        "id": "kCGi4_0ElhzE",
        "outputId": "8456c995-7ae2-4a93-d482-50626085aa9f"
      },
      "source": [
        "my_func(1, 2)"
      ],
      "execution_count": null,
      "outputs": [
        {
          "output_type": "stream",
          "name": "stdout",
          "text": [
            "1 2\n"
          ]
        }
      ]
    },
    {
      "cell_type": "code",
      "metadata": {
        "colab": {
          "base_uri": "https://localhost:8080/"
        },
        "id": "An1G8RslljE6",
        "outputId": "7da71099-a29b-4e00-f667-4e1e3a1f1a0d"
      },
      "source": [
        "def my_func(a, b = 5):\n",
        "  print(a, b)\n",
        "\n",
        "my_func(1)"
      ],
      "execution_count": null,
      "outputs": [
        {
          "output_type": "stream",
          "name": "stdout",
          "text": [
            "1 5\n"
          ]
        }
      ]
    },
    {
      "cell_type": "code",
      "metadata": {
        "colab": {
          "base_uri": "https://localhost:8080/"
        },
        "id": "WDNGfFiUlmLx",
        "outputId": "d9259ed4-268c-49a9-cb54-115044a28b0c"
      },
      "source": [
        "def my_func(a, b):\n",
        "  return a * b\n",
        "\n",
        "my_func(3, 4)"
      ],
      "execution_count": null,
      "outputs": [
        {
          "output_type": "execute_result",
          "data": {
            "text/plain": [
              "12"
            ]
          },
          "metadata": {},
          "execution_count": 59
        }
      ]
    },
    {
      "cell_type": "code",
      "metadata": {
        "colab": {
          "base_uri": "https://localhost:8080/",
          "height": 35
        },
        "id": "NQu0F6GflqTm",
        "outputId": "a372ac0d-c1e1-40e9-f0c7-079b29cef7f4"
      },
      "source": [
        "my_func('rohan', 4)"
      ],
      "execution_count": null,
      "outputs": [
        {
          "output_type": "execute_result",
          "data": {
            "application/vnd.google.colaboratory.intrinsic+json": {
              "type": "string"
            },
            "text/plain": [
              "'rohanrohanrohanrohan'"
            ]
          },
          "metadata": {},
          "execution_count": 61
        }
      ]
    },
    {
      "cell_type": "code",
      "metadata": {
        "colab": {
          "base_uri": "https://localhost:8080/",
          "height": 279
        },
        "id": "H1fUropflsAj",
        "outputId": "f81c48d8-fd58-4c69-9d8f-8f6abe8d43e5"
      },
      "source": [
        "my_func('rohan', \"tsai\")"
      ],
      "execution_count": null,
      "outputs": [
        {
          "output_type": "error",
          "ename": "TypeError",
          "evalue": "ignored",
          "traceback": [
            "\u001b[0;31m---------------------------------------------------------------------------\u001b[0m",
            "\u001b[0;31mTypeError\u001b[0m                                 Traceback (most recent call last)",
            "\u001b[0;32m<ipython-input-62-e429ec35db76>\u001b[0m in \u001b[0;36m<module>\u001b[0;34m()\u001b[0m\n\u001b[0;32m----> 1\u001b[0;31m \u001b[0mmy_func\u001b[0m\u001b[0;34m(\u001b[0m\u001b[0;34m'rohan'\u001b[0m\u001b[0;34m,\u001b[0m \u001b[0;34m\"tsai\"\u001b[0m\u001b[0;34m)\u001b[0m\u001b[0;34m\u001b[0m\u001b[0;34m\u001b[0m\u001b[0m\n\u001b[0m",
            "\u001b[0;32m<ipython-input-59-adcd066d7155>\u001b[0m in \u001b[0;36mmy_func\u001b[0;34m(a, b)\u001b[0m\n\u001b[1;32m      1\u001b[0m \u001b[0;32mdef\u001b[0m \u001b[0mmy_func\u001b[0m\u001b[0;34m(\u001b[0m\u001b[0ma\u001b[0m\u001b[0;34m,\u001b[0m \u001b[0mb\u001b[0m\u001b[0;34m)\u001b[0m\u001b[0;34m:\u001b[0m\u001b[0;34m\u001b[0m\u001b[0;34m\u001b[0m\u001b[0m\n\u001b[0;32m----> 2\u001b[0;31m   \u001b[0;32mreturn\u001b[0m \u001b[0ma\u001b[0m \u001b[0;34m*\u001b[0m \u001b[0mb\u001b[0m\u001b[0;34m\u001b[0m\u001b[0;34m\u001b[0m\u001b[0m\n\u001b[0m\u001b[1;32m      3\u001b[0m \u001b[0;34m\u001b[0m\u001b[0m\n\u001b[1;32m      4\u001b[0m \u001b[0mmy_func\u001b[0m\u001b[0;34m(\u001b[0m\u001b[0;36m3\u001b[0m\u001b[0;34m,\u001b[0m \u001b[0;36m4\u001b[0m\u001b[0;34m)\u001b[0m\u001b[0;34m\u001b[0m\u001b[0;34m\u001b[0m\u001b[0m\n",
            "\u001b[0;31mTypeError\u001b[0m: can't multiply sequence by non-int of type 'str'"
          ]
        }
      ]
    },
    {
      "cell_type": "code",
      "metadata": {
        "id": "PB-U3zlclxY5"
      },
      "source": [
        "def my_func(a: int, b: int):\n",
        "  return a * b"
      ],
      "execution_count": null,
      "outputs": []
    },
    {
      "cell_type": "code",
      "metadata": {
        "colab": {
          "base_uri": "https://localhost:8080/",
          "height": 35
        },
        "id": "AwzYtm12l_f8",
        "outputId": "fb14da44-0bbc-4a8e-8b09-b6941c925fdd"
      },
      "source": [
        "my_func('a', 5)"
      ],
      "execution_count": null,
      "outputs": [
        {
          "output_type": "execute_result",
          "data": {
            "application/vnd.google.colaboratory.intrinsic+json": {
              "type": "string"
            },
            "text/plain": [
              "'aaaaa'"
            ]
          },
          "metadata": {},
          "execution_count": 64
        }
      ]
    },
    {
      "cell_type": "code",
      "metadata": {
        "colab": {
          "base_uri": "https://localhost:8080/"
        },
        "id": "Z26BBWpSmIlf",
        "outputId": "3c123576-aa71-4d48-9e32-3caddda52d54"
      },
      "source": [
        "help(int)"
      ],
      "execution_count": null,
      "outputs": [
        {
          "output_type": "stream",
          "name": "stdout",
          "text": [
            "Help on class int in module builtins:\n",
            "\n",
            "class int(object)\n",
            " |  int([x]) -> integer\n",
            " |  int(x, base=10) -> integer\n",
            " |  \n",
            " |  Convert a number or string to an integer, or return 0 if no arguments\n",
            " |  are given.  If x is a number, return x.__int__().  For floating point\n",
            " |  numbers, this truncates towards zero.\n",
            " |  \n",
            " |  If x is not a number or if base is given, then x must be a string,\n",
            " |  bytes, or bytearray instance representing an integer literal in the\n",
            " |  given base.  The literal can be preceded by '+' or '-' and be surrounded\n",
            " |  by whitespace.  The base defaults to 10.  Valid bases are 0 and 2-36.\n",
            " |  Base 0 means to interpret the base from the string as an integer literal.\n",
            " |  >>> int('0b100', base=0)\n",
            " |  4\n",
            " |  \n",
            " |  Methods defined here:\n",
            " |  \n",
            " |  __abs__(self, /)\n",
            " |      abs(self)\n",
            " |  \n",
            " |  __add__(self, value, /)\n",
            " |      Return self+value.\n",
            " |  \n",
            " |  __and__(self, value, /)\n",
            " |      Return self&value.\n",
            " |  \n",
            " |  __bool__(self, /)\n",
            " |      self != 0\n",
            " |  \n",
            " |  __ceil__(...)\n",
            " |      Ceiling of an Integral returns itself.\n",
            " |  \n",
            " |  __divmod__(self, value, /)\n",
            " |      Return divmod(self, value).\n",
            " |  \n",
            " |  __eq__(self, value, /)\n",
            " |      Return self==value.\n",
            " |  \n",
            " |  __float__(self, /)\n",
            " |      float(self)\n",
            " |  \n",
            " |  __floor__(...)\n",
            " |      Flooring an Integral returns itself.\n",
            " |  \n",
            " |  __floordiv__(self, value, /)\n",
            " |      Return self//value.\n",
            " |  \n",
            " |  __format__(self, format_spec, /)\n",
            " |      Default object formatter.\n",
            " |  \n",
            " |  __ge__(self, value, /)\n",
            " |      Return self>=value.\n",
            " |  \n",
            " |  __getattribute__(self, name, /)\n",
            " |      Return getattr(self, name).\n",
            " |  \n",
            " |  __getnewargs__(self, /)\n",
            " |  \n",
            " |  __gt__(self, value, /)\n",
            " |      Return self>value.\n",
            " |  \n",
            " |  __hash__(self, /)\n",
            " |      Return hash(self).\n",
            " |  \n",
            " |  __index__(self, /)\n",
            " |      Return self converted to an integer, if self is suitable for use as an index into a list.\n",
            " |  \n",
            " |  __int__(self, /)\n",
            " |      int(self)\n",
            " |  \n",
            " |  __invert__(self, /)\n",
            " |      ~self\n",
            " |  \n",
            " |  __le__(self, value, /)\n",
            " |      Return self<=value.\n",
            " |  \n",
            " |  __lshift__(self, value, /)\n",
            " |      Return self<<value.\n",
            " |  \n",
            " |  __lt__(self, value, /)\n",
            " |      Return self<value.\n",
            " |  \n",
            " |  __mod__(self, value, /)\n",
            " |      Return self%value.\n",
            " |  \n",
            " |  __mul__(self, value, /)\n",
            " |      Return self*value.\n",
            " |  \n",
            " |  __ne__(self, value, /)\n",
            " |      Return self!=value.\n",
            " |  \n",
            " |  __neg__(self, /)\n",
            " |      -self\n",
            " |  \n",
            " |  __or__(self, value, /)\n",
            " |      Return self|value.\n",
            " |  \n",
            " |  __pos__(self, /)\n",
            " |      +self\n",
            " |  \n",
            " |  __pow__(self, value, mod=None, /)\n",
            " |      Return pow(self, value, mod).\n",
            " |  \n",
            " |  __radd__(self, value, /)\n",
            " |      Return value+self.\n",
            " |  \n",
            " |  __rand__(self, value, /)\n",
            " |      Return value&self.\n",
            " |  \n",
            " |  __rdivmod__(self, value, /)\n",
            " |      Return divmod(value, self).\n",
            " |  \n",
            " |  __repr__(self, /)\n",
            " |      Return repr(self).\n",
            " |  \n",
            " |  __rfloordiv__(self, value, /)\n",
            " |      Return value//self.\n",
            " |  \n",
            " |  __rlshift__(self, value, /)\n",
            " |      Return value<<self.\n",
            " |  \n",
            " |  __rmod__(self, value, /)\n",
            " |      Return value%self.\n",
            " |  \n",
            " |  __rmul__(self, value, /)\n",
            " |      Return value*self.\n",
            " |  \n",
            " |  __ror__(self, value, /)\n",
            " |      Return value|self.\n",
            " |  \n",
            " |  __round__(...)\n",
            " |      Rounding an Integral returns itself.\n",
            " |      Rounding with an ndigits argument also returns an integer.\n",
            " |  \n",
            " |  __rpow__(self, value, mod=None, /)\n",
            " |      Return pow(value, self, mod).\n",
            " |  \n",
            " |  __rrshift__(self, value, /)\n",
            " |      Return value>>self.\n",
            " |  \n",
            " |  __rshift__(self, value, /)\n",
            " |      Return self>>value.\n",
            " |  \n",
            " |  __rsub__(self, value, /)\n",
            " |      Return value-self.\n",
            " |  \n",
            " |  __rtruediv__(self, value, /)\n",
            " |      Return value/self.\n",
            " |  \n",
            " |  __rxor__(self, value, /)\n",
            " |      Return value^self.\n",
            " |  \n",
            " |  __sizeof__(self, /)\n",
            " |      Returns size in memory, in bytes.\n",
            " |  \n",
            " |  __str__(self, /)\n",
            " |      Return str(self).\n",
            " |  \n",
            " |  __sub__(self, value, /)\n",
            " |      Return self-value.\n",
            " |  \n",
            " |  __truediv__(self, value, /)\n",
            " |      Return self/value.\n",
            " |  \n",
            " |  __trunc__(...)\n",
            " |      Truncating an Integral returns itself.\n",
            " |  \n",
            " |  __xor__(self, value, /)\n",
            " |      Return self^value.\n",
            " |  \n",
            " |  bit_length(self, /)\n",
            " |      Number of bits necessary to represent self in binary.\n",
            " |      \n",
            " |      >>> bin(37)\n",
            " |      '0b100101'\n",
            " |      >>> (37).bit_length()\n",
            " |      6\n",
            " |  \n",
            " |  conjugate(...)\n",
            " |      Returns self, the complex conjugate of any int.\n",
            " |  \n",
            " |  to_bytes(self, /, length, byteorder, *, signed=False)\n",
            " |      Return an array of bytes representing an integer.\n",
            " |      \n",
            " |      length\n",
            " |        Length of bytes object to use.  An OverflowError is raised if the\n",
            " |        integer is not representable with the given number of bytes.\n",
            " |      byteorder\n",
            " |        The byte order used to represent the integer.  If byteorder is 'big',\n",
            " |        the most significant byte is at the beginning of the byte array.  If\n",
            " |        byteorder is 'little', the most significant byte is at the end of the\n",
            " |        byte array.  To request the native byte order of the host system, use\n",
            " |        `sys.byteorder' as the byte order value.\n",
            " |      signed\n",
            " |        Determines whether two's complement is used to represent the integer.\n",
            " |        If signed is False and a negative integer is given, an OverflowError\n",
            " |        is raised.\n",
            " |  \n",
            " |  ----------------------------------------------------------------------\n",
            " |  Class methods defined here:\n",
            " |  \n",
            " |  from_bytes(bytes, byteorder, *, signed=False) from builtins.type\n",
            " |      Return the integer represented by the given array of bytes.\n",
            " |      \n",
            " |      bytes\n",
            " |        Holds the array of bytes to convert.  The argument must either\n",
            " |        support the buffer protocol or be an iterable object producing bytes.\n",
            " |        Bytes and bytearray are examples of built-in objects that support the\n",
            " |        buffer protocol.\n",
            " |      byteorder\n",
            " |        The byte order used to represent the integer.  If byteorder is 'big',\n",
            " |        the most significant byte is at the beginning of the byte array.  If\n",
            " |        byteorder is 'little', the most significant byte is at the end of the\n",
            " |        byte array.  To request the native byte order of the host system, use\n",
            " |        `sys.byteorder' as the byte order value.\n",
            " |      signed\n",
            " |        Indicates whether two's complement is used to represent the integer.\n",
            " |  \n",
            " |  ----------------------------------------------------------------------\n",
            " |  Static methods defined here:\n",
            " |  \n",
            " |  __new__(*args, **kwargs) from builtins.type\n",
            " |      Create and return a new object.  See help(type) for accurate signature.\n",
            " |  \n",
            " |  ----------------------------------------------------------------------\n",
            " |  Data descriptors defined here:\n",
            " |  \n",
            " |  denominator\n",
            " |      the denominator of a rational number in lowest terms\n",
            " |  \n",
            " |  imag\n",
            " |      the imaginary part of a complex number\n",
            " |  \n",
            " |  numerator\n",
            " |      the numerator of a rational number in lowest terms\n",
            " |  \n",
            " |  real\n",
            " |      the real part of a complex number\n",
            "\n"
          ]
        }
      ]
    },
    {
      "cell_type": "code",
      "metadata": {
        "colab": {
          "base_uri": "https://localhost:8080/"
        },
        "id": "h2aJS2n0ma2O",
        "outputId": "d9da3e1c-d62d-4e72-e0ce-298b0933417f"
      },
      "source": [
        " 4 + 5"
      ],
      "execution_count": null,
      "outputs": [
        {
          "output_type": "execute_result",
          "data": {
            "text/plain": [
              "9"
            ]
          },
          "metadata": {},
          "execution_count": 66
        }
      ]
    },
    {
      "cell_type": "code",
      "metadata": {
        "colab": {
          "base_uri": "https://localhost:8080/"
        },
        "id": "ItxMYM-3miyG",
        "outputId": "6557ceef-8505-4f44-f293-f9f037385638"
      },
      "source": [
        "a = int(4)\n",
        "a.__add__(5)"
      ],
      "execution_count": null,
      "outputs": [
        {
          "output_type": "execute_result",
          "data": {
            "text/plain": [
              "9"
            ]
          },
          "metadata": {},
          "execution_count": 70
        }
      ]
    },
    {
      "cell_type": "code",
      "metadata": {
        "colab": {
          "base_uri": "https://localhost:8080/"
        },
        "id": "Hw6mPD4LmlGs",
        "outputId": "40ca9979-4768-4720-e2c3-3ee56bf93050"
      },
      "source": [
        "type(my_func)"
      ],
      "execution_count": null,
      "outputs": [
        {
          "output_type": "execute_result",
          "data": {
            "text/plain": [
              "function"
            ]
          },
          "metadata": {},
          "execution_count": 73
        }
      ]
    },
    {
      "cell_type": "code",
      "metadata": {
        "colab": {
          "base_uri": "https://localhost:8080/"
        },
        "id": "T6YG-FZAnN3Y",
        "outputId": "72d9c322-b177-44c5-ffe7-023952f8ed0e"
      },
      "source": [
        "type(dict)"
      ],
      "execution_count": null,
      "outputs": [
        {
          "output_type": "execute_result",
          "data": {
            "text/plain": [
              "type"
            ]
          },
          "metadata": {},
          "execution_count": 77
        }
      ]
    },
    {
      "cell_type": "code",
      "metadata": {
        "colab": {
          "base_uri": "https://localhost:8080/"
        },
        "id": "YTRxuGcnnXWx",
        "outputId": "fd587a30-e69c-4949-e3b7-41a7d26ae0ac"
      },
      "source": [
        "a = int(9)\n",
        "type(a)"
      ],
      "execution_count": null,
      "outputs": [
        {
          "output_type": "execute_result",
          "data": {
            "text/plain": [
              "int"
            ]
          },
          "metadata": {},
          "execution_count": 78
        }
      ]
    },
    {
      "cell_type": "code",
      "metadata": {
        "colab": {
          "base_uri": "https://localhost:8080/"
        },
        "id": "F727b7saniRO",
        "outputId": "b1f83082-2fc0-43ad-983d-0430b51080be"
      },
      "source": [
        "def my_func(a: int, b: int):\n",
        "  return a * b\n",
        "\n",
        "my_func([1, 2, 3], 5)"
      ],
      "execution_count": null,
      "outputs": [
        {
          "output_type": "execute_result",
          "data": {
            "text/plain": [
              "[1, 2, 3, 1, 2, 3, 1, 2, 3, 1, 2, 3, 1, 2, 3]"
            ]
          },
          "metadata": {},
          "execution_count": 79
        }
      ]
    },
    {
      "cell_type": "code",
      "metadata": {
        "id": "Ot6dveX7nrNg"
      },
      "source": [
        "def fn_1():\n",
        "  fn_2()\n",
        "\n",
        "def fn_2():\n",
        "  pass\n",
        "\n",
        "fn_1()"
      ],
      "execution_count": null,
      "outputs": []
    },
    {
      "cell_type": "code",
      "metadata": {
        "colab": {
          "base_uri": "https://localhost:8080/",
          "height": 207
        },
        "id": "lzL-NgsXnzdb",
        "outputId": "3a569569-eee8-4946-8d84-dce154e37ac2"
      },
      "source": [
        "a = 10 + cccc\n",
        "\n",
        "cccc = 10"
      ],
      "execution_count": null,
      "outputs": [
        {
          "output_type": "error",
          "ename": "NameError",
          "evalue": "ignored",
          "traceback": [
            "\u001b[0;31m---------------------------------------------------------------------------\u001b[0m",
            "\u001b[0;31mNameError\u001b[0m                                 Traceback (most recent call last)",
            "\u001b[0;32m<ipython-input-82-42fbf37815da>\u001b[0m in \u001b[0;36m<module>\u001b[0;34m()\u001b[0m\n\u001b[0;32m----> 1\u001b[0;31m \u001b[0ma\u001b[0m \u001b[0;34m=\u001b[0m \u001b[0;36m10\u001b[0m \u001b[0;34m+\u001b[0m \u001b[0mcccc\u001b[0m\u001b[0;34m\u001b[0m\u001b[0;34m\u001b[0m\u001b[0m\n\u001b[0m\u001b[1;32m      2\u001b[0m \u001b[0;34m\u001b[0m\u001b[0m\n\u001b[1;32m      3\u001b[0m \u001b[0mcccc\u001b[0m \u001b[0;34m=\u001b[0m \u001b[0;36m10\u001b[0m\u001b[0;34m\u001b[0m\u001b[0;34m\u001b[0m\u001b[0m\n",
            "\u001b[0;31mNameError\u001b[0m: name 'cccc' is not defined"
          ]
        }
      ]
    },
    {
      "cell_type": "code",
      "metadata": {
        "colab": {
          "base_uri": "https://localhost:8080/",
          "height": 369
        },
        "id": "e7_ZSnyNoFF0",
        "outputId": "5358b2bd-0a92-4b8d-b15c-a838b974edd8"
      },
      "source": [
        "def fn_3():\n",
        "  fn_4()\n",
        "\n",
        "fn_3()\n",
        "\n",
        "def fn_4():\n",
        "  pass\n",
        "\n"
      ],
      "execution_count": null,
      "outputs": [
        {
          "output_type": "error",
          "ename": "NameError",
          "evalue": "ignored",
          "traceback": [
            "\u001b[0;31m---------------------------------------------------------------------------\u001b[0m",
            "\u001b[0;31mNameError\u001b[0m                                 Traceback (most recent call last)",
            "\u001b[0;32m<ipython-input-84-f9f374347a4f>\u001b[0m in \u001b[0;36m<module>\u001b[0;34m()\u001b[0m\n\u001b[1;32m      2\u001b[0m   \u001b[0mfn_4\u001b[0m\u001b[0;34m(\u001b[0m\u001b[0;34m)\u001b[0m\u001b[0;34m\u001b[0m\u001b[0;34m\u001b[0m\u001b[0m\n\u001b[1;32m      3\u001b[0m \u001b[0;34m\u001b[0m\u001b[0m\n\u001b[0;32m----> 4\u001b[0;31m \u001b[0mfn_3\u001b[0m\u001b[0;34m(\u001b[0m\u001b[0;34m)\u001b[0m\u001b[0;34m\u001b[0m\u001b[0;34m\u001b[0m\u001b[0m\n\u001b[0m\u001b[1;32m      5\u001b[0m \u001b[0;34m\u001b[0m\u001b[0m\n\u001b[1;32m      6\u001b[0m \u001b[0;32mdef\u001b[0m \u001b[0mfn_4\u001b[0m\u001b[0;34m(\u001b[0m\u001b[0;34m)\u001b[0m\u001b[0;34m:\u001b[0m\u001b[0;34m\u001b[0m\u001b[0;34m\u001b[0m\u001b[0m\n",
            "\u001b[0;32m<ipython-input-84-f9f374347a4f>\u001b[0m in \u001b[0;36mfn_3\u001b[0;34m()\u001b[0m\n\u001b[1;32m      1\u001b[0m \u001b[0;32mdef\u001b[0m \u001b[0mfn_3\u001b[0m\u001b[0;34m(\u001b[0m\u001b[0;34m)\u001b[0m\u001b[0;34m:\u001b[0m\u001b[0;34m\u001b[0m\u001b[0;34m\u001b[0m\u001b[0m\n\u001b[0;32m----> 2\u001b[0;31m   \u001b[0mfn_4\u001b[0m\u001b[0;34m(\u001b[0m\u001b[0;34m)\u001b[0m\u001b[0;34m\u001b[0m\u001b[0;34m\u001b[0m\u001b[0m\n\u001b[0m\u001b[1;32m      3\u001b[0m \u001b[0;34m\u001b[0m\u001b[0m\n\u001b[1;32m      4\u001b[0m \u001b[0mfn_3\u001b[0m\u001b[0;34m(\u001b[0m\u001b[0;34m)\u001b[0m\u001b[0;34m\u001b[0m\u001b[0;34m\u001b[0m\u001b[0m\n\u001b[1;32m      5\u001b[0m \u001b[0;34m\u001b[0m\u001b[0m\n",
            "\u001b[0;31mNameError\u001b[0m: name 'fn_4' is not defined"
          ]
        }
      ]
    },
    {
      "cell_type": "code",
      "metadata": {
        "colab": {
          "base_uri": "https://localhost:8080/"
        },
        "id": "m2Yjz4RFoL2G",
        "outputId": "5df54fd1-3c20-4b80-a007-25e16fb8e126"
      },
      "source": [
        "def squarethis(x, y):\n",
        "  return x**2 + y\n",
        " \n",
        "squarethis(4, 4)"
      ],
      "execution_count": null,
      "outputs": [
        {
          "output_type": "execute_result",
          "data": {
            "text/plain": [
              "20"
            ]
          },
          "metadata": {},
          "execution_count": 89
        }
      ]
    },
    {
      "cell_type": "code",
      "metadata": {
        "colab": {
          "base_uri": "https://localhost:8080/"
        },
        "id": "MRDa926poUYK",
        "outputId": "527ffbd5-e1ff-45ba-ed92-4ddddf0c4bd0"
      },
      "source": [
        "squarethis = lambda x, y: x**2 + y\n",
        "\n",
        "squarethis(4, 4)"
      ],
      "execution_count": null,
      "outputs": [
        {
          "output_type": "execute_result",
          "data": {
            "text/plain": [
              "20"
            ]
          },
          "metadata": {},
          "execution_count": 91
        }
      ]
    },
    {
      "cell_type": "code",
      "metadata": {
        "colab": {
          "base_uri": "https://localhost:8080/"
        },
        "id": "Tlhnyu83okFV",
        "outputId": "61490718-08ab-48b7-d224-5568d1a9106b"
      },
      "source": [
        "def sq(x):\n",
        "  return x**2 \n",
        "\n",
        "def cu(x):\n",
        "  return x**3  \n",
        "\n",
        "def run_this(fn, n):\n",
        "  return(fn(n))\n",
        "\n",
        "run_this(cu, 4)"
      ],
      "execution_count": null,
      "outputs": [
        {
          "output_type": "execute_result",
          "data": {
            "text/plain": [
              "64"
            ]
          },
          "metadata": {},
          "execution_count": 93
        }
      ]
    },
    {
      "cell_type": "code",
      "metadata": {
        "colab": {
          "base_uri": "https://localhost:8080/"
        },
        "id": "Z0sD-O0FpAf3",
        "outputId": "cc6d0d42-abbe-440f-e6d6-9fd2ef4ed1f9"
      },
      "source": [
        "def run_this(fn, n):\n",
        "  return(fn(n))\n",
        "\n",
        "run_this(lambda x: x**2, 4)"
      ],
      "execution_count": null,
      "outputs": [
        {
          "output_type": "execute_result",
          "data": {
            "text/plain": [
              "16"
            ]
          },
          "metadata": {},
          "execution_count": 94
        }
      ]
    },
    {
      "cell_type": "markdown",
      "metadata": {
        "id": "oYCX-7fkpOTj"
      },
      "source": [
        "# While Loops"
      ]
    },
    {
      "cell_type": "code",
      "metadata": {
        "colab": {
          "base_uri": "https://localhost:8080/"
        },
        "id": "o_ROf7WbpIuW",
        "outputId": "69864ba6-3859-4513-a0bc-44ae3d0b48c8"
      },
      "source": [
        "# while <exp is true>: code block\n",
        "\n",
        "i = 0\n",
        "while i < 5:\n",
        "  print(i)\n",
        "  i += 1"
      ],
      "execution_count": null,
      "outputs": [
        {
          "output_type": "stream",
          "name": "stdout",
          "text": [
            "0\n",
            "1\n",
            "2\n",
            "3\n",
            "4\n"
          ]
        }
      ]
    },
    {
      "cell_type": "code",
      "metadata": {
        "id": "LMdVNZPipWfe"
      },
      "source": [
        "i = 6\n",
        "while i < 5:\n",
        "  print(i)\n",
        "  i += 1"
      ],
      "execution_count": null,
      "outputs": []
    },
    {
      "cell_type": "code",
      "metadata": {
        "colab": {
          "base_uri": "https://localhost:8080/"
        },
        "id": "0mbWio4apaOj",
        "outputId": "1650c7d9-4261-4bbc-d6b7-538ab1a55cf8"
      },
      "source": [
        "i = 6\n",
        "while True:\n",
        "  print(i)\n",
        "  if i >=5:\n",
        "    break"
      ],
      "execution_count": null,
      "outputs": [
        {
          "output_type": "stream",
          "name": "stdout",
          "text": [
            "6\n"
          ]
        }
      ]
    },
    {
      "cell_type": "code",
      "metadata": {
        "colab": {
          "base_uri": "https://localhost:8080/"
        },
        "id": "K6FZ4STypoe2",
        "outputId": "169d0cc0-4774-4556-8793-b1a918316f30"
      },
      "source": [
        "min_len = 2\n",
        "\n",
        "name = input(\"Please enter your name:\")\n",
        "\n",
        "while (len(name) <= min_len):\n",
        "  name = input(\"Please enter your name:\")"
      ],
      "execution_count": null,
      "outputs": [
        {
          "name": "stdout",
          "output_type": "stream",
          "text": [
            "Please enter your name:A\n",
            "Please enter your nameS\n",
            "Please enter your name1\n",
            "Please enter your nameAW\n",
            "Please enter your nameASA\n"
          ]
        }
      ]
    },
    {
      "cell_type": "code",
      "metadata": {
        "colab": {
          "base_uri": "https://localhost:8080/"
        },
        "id": "GsFrmzBNpxff",
        "outputId": "78246b5e-cc68-4a77-8962-a4ba21b69e5b"
      },
      "source": [
        "min_len = 2\n",
        "\n",
        "while True:\n",
        "  name = input(\"Please enter your name:\")\n",
        "  if len(name) >= min_len:\n",
        "    break"
      ],
      "execution_count": null,
      "outputs": [
        {
          "name": "stdout",
          "output_type": "stream",
          "text": [
            "Please enter your name:A\n",
            "Please enter your name:ASD\n"
          ]
        }
      ]
    },
    {
      "cell_type": "code",
      "metadata": {
        "colab": {
          "base_uri": "https://localhost:8080/"
        },
        "id": "2VRJ_CQ6qRYH",
        "outputId": "6d9ea62a-a75f-4d51-aad3-4597714f4c53"
      },
      "source": [
        "a = 0\n",
        "\n",
        "while a < 10:\n",
        "  a += 1\n",
        "  if a % 2:\n",
        "    print(a)\n",
        "  "
      ],
      "execution_count": null,
      "outputs": [
        {
          "output_type": "stream",
          "name": "stdout",
          "text": [
            "1\n",
            "3\n",
            "5\n",
            "7\n",
            "9\n"
          ]
        }
      ]
    },
    {
      "cell_type": "code",
      "metadata": {
        "colab": {
          "base_uri": "https://localhost:8080/"
        },
        "id": "Zvhy-RjmqoIP",
        "outputId": "5793cda3-47a8-45b7-bc74-8235e12ec29b"
      },
      "source": [
        "# while else\n",
        "l = [1, 2, 3, 10]\n",
        "val = 10\n",
        "\n",
        "found = False\n",
        "\n",
        "idx = 0\n",
        "\n",
        "while idx < len(l):\n",
        "  if l[idx] == val:\n",
        "    found = True\n",
        "    break\n",
        "  idx += 1\n",
        "\n",
        "if not found:\n",
        "  print(\"We came here\")\n",
        "  l.append(val)\n",
        "\n",
        "print(l)\n",
        "\n"
      ],
      "execution_count": null,
      "outputs": [
        {
          "output_type": "stream",
          "name": "stdout",
          "text": [
            "[1, 2, 3, 10]\n"
          ]
        }
      ]
    },
    {
      "cell_type": "code",
      "metadata": {
        "colab": {
          "base_uri": "https://localhost:8080/"
        },
        "id": "zPHckpNfrnPP",
        "outputId": "69d4c2c4-0382-41bb-8dc2-4ef921370a2d"
      },
      "source": [
        "# while else\n",
        "l = [1, 2, 3, 10]\n",
        "val = 10\n",
        "\n",
        "idx = 0\n",
        "\n",
        "while idx < len(l):\n",
        "  if l[idx] == val:\n",
        "    break\n",
        "  idx += 1\n",
        "else:\n",
        "  print(\"We came here\")\n",
        "  l.append(val)\n",
        "\n",
        "print(l)"
      ],
      "execution_count": null,
      "outputs": [
        {
          "output_type": "stream",
          "name": "stdout",
          "text": [
            "[1, 2, 3, 10]\n"
          ]
        }
      ]
    },
    {
      "cell_type": "markdown",
      "metadata": {
        "id": "9G2fTR-usBg1"
      },
      "source": [
        "# Try Except and Finally"
      ]
    },
    {
      "cell_type": "code",
      "metadata": {
        "colab": {
          "base_uri": "https://localhost:8080/"
        },
        "id": "-u9ed7qcr2S4",
        "outputId": "66e45f79-8f03-4aa0-af75-39490d674972"
      },
      "source": [
        "a = 10\n",
        "b = 0\n",
        "\n",
        "try:\n",
        "  a / b\n",
        "except ZeroDivisionError:\n",
        "  print(\"I am sorry\")"
      ],
      "execution_count": null,
      "outputs": [
        {
          "output_type": "stream",
          "name": "stdout",
          "text": [
            "I am sorry\n"
          ]
        }
      ]
    },
    {
      "cell_type": "code",
      "metadata": {
        "colab": {
          "base_uri": "https://localhost:8080/"
        },
        "id": "vEFVeFVpsNFE",
        "outputId": "e2790018-cdfc-450e-c241-721ddbc816eb"
      },
      "source": [
        "a = 10\n",
        "b = 1\n",
        "\n",
        "try:\n",
        "  a / b\n",
        "except ZeroDivisionError:\n",
        "  print(\"I am sorry\")\n",
        "finally:\n",
        "  print(\"I am always going to run\")"
      ],
      "execution_count": null,
      "outputs": [
        {
          "output_type": "stream",
          "name": "stdout",
          "text": [
            "I am always going to run\n"
          ]
        }
      ]
    },
    {
      "cell_type": "code",
      "metadata": {
        "colab": {
          "base_uri": "https://localhost:8080/"
        },
        "id": "lEzpCrvbscq8",
        "outputId": "861b5385-d805-4aba-9fe3-b23293272e6b"
      },
      "source": [
        "a = 0\n",
        "b = 2\n",
        "\n",
        "while a < 3:\n",
        "  print('__________________')\n",
        "  a +=1 \n",
        "  b -=1 \n",
        "  try:\n",
        "    res = a / b\n",
        "  except ZeroDivisionError:\n",
        "    print(f'{a} / {b} - division by error')\n",
        "    res = 0\n",
        "    continue\n",
        "  finally:\n",
        "    print(f'{a} / {b} - always executes')"
      ],
      "execution_count": null,
      "outputs": [
        {
          "output_type": "stream",
          "name": "stdout",
          "text": [
            "__________________\n",
            "1 / 1 - always executes\n",
            "__________________\n",
            "2 / 0 - division by error\n",
            "2 / 0 - always executes\n",
            "__________________\n",
            "3 / -1 - always executes\n"
          ]
        }
      ]
    },
    {
      "cell_type": "code",
      "metadata": {
        "colab": {
          "base_uri": "https://localhost:8080/"
        },
        "id": "Igei2ecytChE",
        "outputId": "fc0bd040-a01a-419a-de7a-5038cf32562b"
      },
      "source": [
        "a = 0\n",
        "b = 2\n",
        "\n",
        "while a < 3:\n",
        "  print('__________________')\n",
        "  a +=1 \n",
        "  b -=1 \n",
        "  try:\n",
        "    res = a / b\n",
        "  except ZeroDivisionError:\n",
        "    print(f'{a} / {b} - division by error')\n",
        "    res = 0\n",
        "    break\n",
        "  finally:\n",
        "    print(f'{a} / {b} - always executes')"
      ],
      "execution_count": null,
      "outputs": [
        {
          "output_type": "stream",
          "name": "stdout",
          "text": [
            "__________________\n",
            "1 / 1 - always executes\n",
            "__________________\n",
            "2 / 0 - division by error\n",
            "2 / 0 - always executes\n"
          ]
        }
      ]
    },
    {
      "cell_type": "code",
      "metadata": {
        "colab": {
          "base_uri": "https://localhost:8080/"
        },
        "id": "Ka9oCH5AtSEg",
        "outputId": "8a243fd3-3fd6-42e0-b738-d9067442c4c9"
      },
      "source": [
        "a = 0\n",
        "b = 4\n",
        "\n",
        "while a < 3:\n",
        "  print('__________________')\n",
        "  a +=1 \n",
        "  b -=1 \n",
        "  try:\n",
        "    res = a / b\n",
        "  except ZeroDivisionError:\n",
        "    print(f'{a} / {b} - division by error')\n",
        "    res = 0\n",
        "    break\n",
        "  finally:\n",
        "    print(f'{a} / {b} - always executes')\n",
        "else:\n",
        "  print(f'the break statement was not encountered. Value of b is {b}')\n"
      ],
      "execution_count": null,
      "outputs": [
        {
          "output_type": "stream",
          "name": "stdout",
          "text": [
            "__________________\n",
            "1 / 3 - always executes\n",
            "__________________\n",
            "2 / 2 - always executes\n",
            "__________________\n",
            "3 / 1 - always executes\n",
            "the break statement was not encountered. Value of b is 1\n"
          ]
        }
      ]
    },
    {
      "cell_type": "code",
      "metadata": {
        "colab": {
          "base_uri": "https://localhost:8080/"
        },
        "id": "RzOWhwo6tgDG",
        "outputId": "3ab99f6f-bf4d-438c-fb5e-29c8de241991"
      },
      "source": [
        "i = 0\n",
        "while i < 4:\n",
        "  i += 1\n",
        "  if i == 3:\n",
        "    continue\n",
        "  else:\n",
        "    print(i)\n",
        "  print(\"Hello\")\n",
        "  "
      ],
      "execution_count": null,
      "outputs": [
        {
          "output_type": "stream",
          "name": "stdout",
          "text": [
            "1\n",
            "Hello\n",
            "2\n",
            "Hello\n",
            "4\n",
            "Hello\n"
          ]
        }
      ]
    },
    {
      "cell_type": "code",
      "metadata": {
        "colab": {
          "base_uri": "https://localhost:8080/"
        },
        "id": "ZjfJeZS6toEk",
        "outputId": "668969af-ba39-4b0f-e7fd-6e12040fe060"
      },
      "source": [
        "# for(int i = 0; i<=10; i++)\n",
        "\n",
        "for i in range(5):\n",
        "  print(i)"
      ],
      "execution_count": null,
      "outputs": [
        {
          "output_type": "stream",
          "name": "stdout",
          "text": [
            "0\n",
            "1\n",
            "2\n",
            "3\n",
            "4\n"
          ]
        }
      ]
    },
    {
      "cell_type": "code",
      "metadata": {
        "colab": {
          "base_uri": "https://localhost:8080/"
        },
        "id": "8PdLwtwgusOa",
        "outputId": "929631c0-a9c3-4b84-cd8f-04233cb48850"
      },
      "source": [
        "for i in 'alaska':\n",
        "  print(i)"
      ],
      "execution_count": null,
      "outputs": [
        {
          "output_type": "stream",
          "name": "stdout",
          "text": [
            "a\n",
            "l\n",
            "a\n",
            "s\n",
            "k\n",
            "a\n"
          ]
        }
      ]
    },
    {
      "cell_type": "code",
      "metadata": {
        "colab": {
          "base_uri": "https://localhost:8080/"
        },
        "id": "PNbRK_zAuvCZ",
        "outputId": "e7213eec-a36d-412f-fc8e-78b59eafd1d7"
      },
      "source": [
        "for i in [1, 2, 3, 4]:\n",
        "  print(i)"
      ],
      "execution_count": null,
      "outputs": [
        {
          "output_type": "stream",
          "name": "stdout",
          "text": [
            "1\n",
            "2\n",
            "3\n",
            "4\n"
          ]
        }
      ]
    },
    {
      "cell_type": "code",
      "metadata": {
        "colab": {
          "base_uri": "https://localhost:8080/"
        },
        "id": "QIGei9QzuxYz",
        "outputId": "a8912e37-92be-4faa-f043-ac1a7984d5fc"
      },
      "source": [
        "for i in (1, 2, 3, 4):\n",
        "  print(i)"
      ],
      "execution_count": null,
      "outputs": [
        {
          "output_type": "stream",
          "name": "stdout",
          "text": [
            "1\n",
            "2\n",
            "3\n",
            "4\n"
          ]
        }
      ]
    },
    {
      "cell_type": "code",
      "metadata": {
        "colab": {
          "base_uri": "https://localhost:8080/"
        },
        "id": "fn4B7qaZuzfC",
        "outputId": "84e06f65-fff9-4bdf-8b40-1b106abd8f96"
      },
      "source": [
        "for i in {1:11, 2:22, 3:33}:\n",
        "  print(i)"
      ],
      "execution_count": null,
      "outputs": [
        {
          "output_type": "stream",
          "name": "stdout",
          "text": [
            "1\n",
            "2\n",
            "3\n"
          ]
        }
      ]
    },
    {
      "cell_type": "code",
      "metadata": {
        "colab": {
          "base_uri": "https://localhost:8080/"
        },
        "id": "Eo2l5mdfu23n",
        "outputId": "254d2bde-7af5-4603-e1cf-4d788b47bb6d"
      },
      "source": [
        "for i in ('a', 'b', 'c'):\n",
        "  print(i)"
      ],
      "execution_count": null,
      "outputs": [
        {
          "output_type": "stream",
          "name": "stdout",
          "text": [
            "a\n",
            "b\n",
            "c\n"
          ]
        }
      ]
    },
    {
      "cell_type": "code",
      "metadata": {
        "colab": {
          "base_uri": "https://localhost:8080/"
        },
        "id": "_DykMWmKvFLX",
        "outputId": "1cb57eef-226e-4d32-9d55-08c237f52fff"
      },
      "source": [
        "for i, j in enumerate('This is a very long line'):\n",
        "  if j == 'v':\n",
        "    print(f'v was found at {i}')"
      ],
      "execution_count": null,
      "outputs": [
        {
          "output_type": "stream",
          "name": "stdout",
          "text": [
            "v was found at 10\n"
          ]
        }
      ]
    },
    {
      "cell_type": "code",
      "metadata": {
        "colab": {
          "base_uri": "https://localhost:8080/"
        },
        "id": "uyp1yC--vJLi",
        "outputId": "d332b8a8-fd1f-41be-cb90-580fc7b412cb"
      },
      "source": [
        "for i, j in enumerate(\"rohan\"):\n",
        "  print( j)"
      ],
      "execution_count": null,
      "outputs": [
        {
          "output_type": "stream",
          "name": "stdout",
          "text": [
            "r\n",
            "o\n",
            "h\n",
            "a\n",
            "n\n"
          ]
        }
      ]
    },
    {
      "cell_type": "code",
      "metadata": {
        "colab": {
          "base_uri": "https://localhost:8080/"
        },
        "id": "xJvn_dbpvXbi",
        "outputId": "2eb17516-6ee6-4d2e-bd97-c34a73ff25ce"
      },
      "source": [
        "for i in range(5):\n",
        "  if i == 3:\n",
        "    continue\n",
        "  print(i)"
      ],
      "execution_count": null,
      "outputs": [
        {
          "output_type": "stream",
          "name": "stdout",
          "text": [
            "0\n",
            "1\n",
            "2\n",
            "4\n"
          ]
        }
      ]
    },
    {
      "cell_type": "code",
      "metadata": {
        "colab": {
          "base_uri": "https://localhost:8080/"
        },
        "id": "4mB7vkylvvB-",
        "outputId": "b64ed182-36a7-481e-f975-3f89c2acb5d9"
      },
      "source": [
        "for i in range(5):\n",
        "  if i == 3:\n",
        "    break\n",
        "  print(i)"
      ],
      "execution_count": null,
      "outputs": [
        {
          "output_type": "stream",
          "name": "stdout",
          "text": [
            "0\n",
            "1\n",
            "2\n"
          ]
        }
      ]
    },
    {
      "cell_type": "code",
      "metadata": {
        "colab": {
          "base_uri": "https://localhost:8080/"
        },
        "id": "x4ObApnqvwnd",
        "outputId": "59829ffd-7931-428d-c932-453549b18255"
      },
      "source": [
        "for i in range(5):\n",
        "  if i == 6:\n",
        "    break\n",
        "  print(i)\n",
        "else:\n",
        "  print(\"did not find 6\")"
      ],
      "execution_count": null,
      "outputs": [
        {
          "output_type": "stream",
          "name": "stdout",
          "text": [
            "0\n",
            "1\n",
            "2\n",
            "3\n",
            "4\n",
            "did not find 6\n"
          ]
        }
      ]
    },
    {
      "cell_type": "code",
      "metadata": {
        "colab": {
          "base_uri": "https://localhost:8080/"
        },
        "id": "NdRD8TnZv1Ky",
        "outputId": "c2ab9dd0-26f2-408c-87aa-d31336ca4e4f"
      },
      "source": [
        "for i in range(5):\n",
        "  print('____________________')\n",
        "  try:\n",
        "    10 / (i - 3)\n",
        "  except ZeroDivisionError:\n",
        "    print('divided by 0')\n",
        "    continue\n",
        "  finally:\n",
        "    print('always run')\n",
        "  print(i)"
      ],
      "execution_count": null,
      "outputs": [
        {
          "output_type": "stream",
          "name": "stdout",
          "text": [
            "____________________\n",
            "always run\n",
            "0\n",
            "____________________\n",
            "always run\n",
            "1\n",
            "____________________\n",
            "always run\n",
            "2\n",
            "____________________\n",
            "divided by 0\n",
            "always run\n",
            "____________________\n",
            "always run\n",
            "4\n"
          ]
        }
      ]
    },
    {
      "cell_type": "markdown",
      "metadata": {
        "id": "2c4Kgp97wSFA"
      },
      "source": [
        "# Classes"
      ]
    },
    {
      "cell_type": "code",
      "metadata": {
        "id": "d3MhAMbuwMRm"
      },
      "source": [
        "class Rectangle:\n",
        "  def __init__(tiger, width, height):\n",
        "    tiger.width = width\n",
        "    tiger.height = height\n",
        "    tiger.value = 100\n",
        "  def area(tiger):\n",
        "    return tiger.height * tiger.width\n",
        "\n",
        "r = Rectangle(12, 13)"
      ],
      "execution_count": null,
      "outputs": []
    },
    {
      "cell_type": "code",
      "metadata": {
        "colab": {
          "base_uri": "https://localhost:8080/"
        },
        "id": "z103gI3Dwnka",
        "outputId": "6e4ba4a0-3006-4de2-913d-14b5e1bfae36"
      },
      "source": [
        "r.area()"
      ],
      "execution_count": null,
      "outputs": [
        {
          "output_type": "execute_result",
          "data": {
            "text/plain": [
              "156"
            ]
          },
          "metadata": {},
          "execution_count": 167
        }
      ]
    },
    {
      "cell_type": "code",
      "metadata": {
        "colab": {
          "base_uri": "https://localhost:8080/"
        },
        "id": "JID6SC3UyPz3",
        "outputId": "7ad9b9a6-2165-4cf6-ed73-9d3b7eebd151"
      },
      "source": [
        "r.width = 100\n",
        "r.area()"
      ],
      "execution_count": null,
      "outputs": [
        {
          "output_type": "execute_result",
          "data": {
            "text/plain": [
              "1300"
            ]
          },
          "metadata": {},
          "execution_count": 168
        }
      ]
    },
    {
      "cell_type": "code",
      "metadata": {
        "colab": {
          "base_uri": "https://localhost:8080/"
        },
        "id": "ss1rZQrQynh-",
        "outputId": "03e05e1b-aad6-4227-85ad-2e9bcc6b2d9d"
      },
      "source": [
        "class Rectangle:\n",
        "  def __init__(self, width, height):\n",
        "    self.width = width\n",
        "    self.height = height\n",
        "    self.value = 100\n",
        "  def area(self):\n",
        "    return self.height * self.width\n",
        "  def perimeter(self):\n",
        "    return 2 * (self.height + self.width)\n",
        "\n",
        "r = Rectangle(12, 13)\n",
        "r.perimeter(), r.area()"
      ],
      "execution_count": null,
      "outputs": [
        {
          "output_type": "execute_result",
          "data": {
            "text/plain": [
              "(50, 156)"
            ]
          },
          "metadata": {},
          "execution_count": 171
        }
      ]
    },
    {
      "cell_type": "code",
      "metadata": {
        "colab": {
          "base_uri": "https://localhost:8080/"
        },
        "id": "puR2GP0hzG5C",
        "outputId": "a80d2688-ef91-46e1-a728-6795e77a2498"
      },
      "source": [
        "dir(Rectangle)"
      ],
      "execution_count": null,
      "outputs": [
        {
          "output_type": "execute_result",
          "data": {
            "text/plain": [
              "['__class__',\n",
              " '__delattr__',\n",
              " '__dict__',\n",
              " '__dir__',\n",
              " '__doc__',\n",
              " '__eq__',\n",
              " '__format__',\n",
              " '__ge__',\n",
              " '__getattribute__',\n",
              " '__gt__',\n",
              " '__hash__',\n",
              " '__init__',\n",
              " '__init_subclass__',\n",
              " '__le__',\n",
              " '__lt__',\n",
              " '__module__',\n",
              " '__ne__',\n",
              " '__new__',\n",
              " '__reduce__',\n",
              " '__reduce_ex__',\n",
              " '__repr__',\n",
              " '__setattr__',\n",
              " '__sizeof__',\n",
              " '__str__',\n",
              " '__subclasshook__',\n",
              " '__weakref__',\n",
              " 'area',\n",
              " 'perimeter']"
            ]
          },
          "metadata": {},
          "execution_count": 176
        }
      ]
    },
    {
      "cell_type": "code",
      "metadata": {
        "colab": {
          "base_uri": "https://localhost:8080/"
        },
        "id": "jSiPPKm2zNtv",
        "outputId": "19a94182-c1b6-4e4f-9cc3-20fff22f992f"
      },
      "source": [
        "class Rectangle:\n",
        "  def __init__(self, width, height):\n",
        "    self.width = width\n",
        "    self.height = height\n",
        "    self.value = 100\n",
        "  def area(self):\n",
        "    return self.height * self.width\n",
        "  def perimeter(self):\n",
        "    return 2 * (self.height + self.width)\n",
        "  def __str__(self):\n",
        "    return f'This is a rectangle with height = {self.height} and width = {self.width}'\n",
        "\n",
        "r = Rectangle(12, 13)\n",
        "r.perimeter(), r.area()"
      ],
      "execution_count": null,
      "outputs": [
        {
          "output_type": "execute_result",
          "data": {
            "text/plain": [
              "(50, 156)"
            ]
          },
          "metadata": {},
          "execution_count": 180
        }
      ]
    },
    {
      "cell_type": "code",
      "metadata": {
        "colab": {
          "base_uri": "https://localhost:8080/",
          "height": 35
        },
        "id": "-3lgC_4_zkQD",
        "outputId": "fdc7fba0-c75e-4479-eaa7-0657e4fe04f6"
      },
      "source": [
        "str(r)"
      ],
      "execution_count": null,
      "outputs": [
        {
          "output_type": "execute_result",
          "data": {
            "application/vnd.google.colaboratory.intrinsic+json": {
              "type": "string"
            },
            "text/plain": [
              "'This is a rectangle with height = 13 and width = 12'"
            ]
          },
          "metadata": {},
          "execution_count": 183
        }
      ]
    },
    {
      "cell_type": "code",
      "metadata": {
        "colab": {
          "base_uri": "https://localhost:8080/"
        },
        "id": "H7TaFBN7zlZT",
        "outputId": "c2e8f912-7291-4051-a454-cc8c353cc5de"
      },
      "source": [
        "class Rectangle:\n",
        "  def __init__(self, width, height):\n",
        "    self.width = width\n",
        "    self.height = height\n",
        "    self.value = 100\n",
        "  def area(self):\n",
        "    return self.height * self.width\n",
        "  def perimeter(self):\n",
        "    return 2 * (self.height + self.width)\n",
        "  def __str__(self):\n",
        "    return f'This is a rectangle with height = {self.height} and width = {self.width}'\n",
        "  def __repr__(self):\n",
        "    return f'This is a rectangle with height = {self.height} and width = {self.width}'\n",
        "\n",
        "r = Rectangle(12, 13)\n",
        "r.perimeter(), r.area()"
      ],
      "execution_count": null,
      "outputs": [
        {
          "output_type": "execute_result",
          "data": {
            "text/plain": [
              "(50, 156)"
            ]
          },
          "metadata": {},
          "execution_count": 188
        }
      ]
    },
    {
      "cell_type": "code",
      "metadata": {
        "colab": {
          "base_uri": "https://localhost:8080/"
        },
        "id": "0hL2UhWTz1_H",
        "outputId": "24bca00c-c75e-4dbc-b599-9a4a304fb3a4"
      },
      "source": [
        "type(Rectangle), type(r)"
      ],
      "execution_count": null,
      "outputs": [
        {
          "output_type": "execute_result",
          "data": {
            "text/plain": [
              "(type, __main__.Rectangle)"
            ]
          },
          "metadata": {},
          "execution_count": 193
        }
      ]
    },
    {
      "cell_type": "code",
      "metadata": {
        "colab": {
          "base_uri": "https://localhost:8080/"
        },
        "id": "-K4M35eFz3A1",
        "outputId": "6eb0ddd4-ca5e-4f74-d09d-e065f54d8c7e"
      },
      "source": [
        "r1 = Rectangle(12, 13)\n",
        "\n",
        "r == r1"
      ],
      "execution_count": null,
      "outputs": [
        {
          "output_type": "execute_result",
          "data": {
            "text/plain": [
              "False"
            ]
          },
          "metadata": {},
          "execution_count": 194
        }
      ]
    },
    {
      "cell_type": "code",
      "metadata": {
        "colab": {
          "base_uri": "https://localhost:8080/"
        },
        "id": "IBl08enc0Ykt",
        "outputId": "7b781dea-6004-4096-bd82-79768e8e8c0b"
      },
      "source": [
        "class Rectangle:\n",
        "  def __init__(self, width, height):\n",
        "    self.width = width\n",
        "    self.height = height\n",
        "    self.value = 100\n",
        "  def area(self):\n",
        "    return self.height * self.width\n",
        "  def perimeter(self):\n",
        "    return 2 * (self.height + self.width)\n",
        "  def __str__(self):\n",
        "    return f'This is a rectangle with height = {self.height} and width = {self.width}'\n",
        "  def __repr__(self):\n",
        "    return f'This is a rectangle with height = {self.height} and width = {self.width}'\n",
        "  def __eq__(self, other):\n",
        "    print(f'self = {self}, other = {other}')\n",
        "    if isinstance(other, Rectangle):\n",
        "      return (self.height, self.width) == (other.height, other.width)\n",
        "    else:\n",
        "      False\n",
        "\n",
        "r = Rectangle(12, 13)\n",
        "r.perimeter(), r.area()\n",
        "r1 = Rectangle(12, 13)\n",
        "\n",
        "r == r1"
      ],
      "execution_count": null,
      "outputs": [
        {
          "output_type": "stream",
          "name": "stdout",
          "text": [
            "self = This is a rectangle with height = 13 and width = 12, other = This is a rectangle with height = 13 and width = 12\n"
          ]
        },
        {
          "output_type": "execute_result",
          "data": {
            "text/plain": [
              "True"
            ]
          },
          "metadata": {},
          "execution_count": 197
        }
      ]
    },
    {
      "cell_type": "code",
      "metadata": {
        "id": "XmlXpUSP0chW"
      },
      "source": [
        "class Rectangle:\n",
        "  def __init__(self, width, height):\n",
        "    self.width = width\n",
        "    self.height = height\n",
        "    self.value = 100\n",
        "  def area(self):\n",
        "    return self.height * self.width\n",
        "  def perimeter(self):\n",
        "    return 2 * (self.height + self.width)\n",
        "  def __str__(self):\n",
        "    return f'This is a rectangle with height = {self.height} and width = {self.width}'\n",
        "  def __repr__(self):\n",
        "    return f'This is a rectangle with height = {self.height} and width = {self.width}'\n",
        "  def __eq__(self, other):\n",
        "    print(f'self = {self}, other = {other}')\n",
        "    if isinstance(other, Rectangle):\n",
        "      return (self.height, self.width) == (other.height, other.width)\n",
        "    else:\n",
        "      False\n",
        "\n",
        "r = Rectangle(-10, 30)"
      ],
      "execution_count": null,
      "outputs": []
    },
    {
      "cell_type": "code",
      "metadata": {
        "id": "3xM7AkmQ1Ru0"
      },
      "source": [
        "r.width = -40"
      ],
      "execution_count": null,
      "outputs": []
    },
    {
      "cell_type": "code",
      "metadata": {
        "colab": {
          "base_uri": "https://localhost:8080/"
        },
        "id": "hFB5KAsT1UMV",
        "outputId": "fd65d61e-09d3-4349-cd42-8acf3e3c72c9"
      },
      "source": [
        "class Rectangle:\n",
        "  def __init__(self, width, height):\n",
        "    self._width = width\n",
        "    self._height = height\n",
        "\n",
        "  def __repr__(self):\n",
        "    return f'Rectange({self._height},{self._width})'\n",
        "\n",
        "  @property\n",
        "  def width(self):\n",
        "    print(\"I am going to get executed\")\n",
        "    return self._width\n",
        "\n",
        "  @width.setter\n",
        "  def width(self, width):\n",
        "    if width < 0:\n",
        "      raise ValueError('Width must be positive dude!')\n",
        "    else:\n",
        "      self._width = width\n",
        "\n",
        "r = Rectangle(1.4, -100)\n",
        "r"
      ],
      "execution_count": null,
      "outputs": [
        {
          "output_type": "execute_result",
          "data": {
            "text/plain": [
              "Rectange(-100,1.4)"
            ]
          },
          "metadata": {},
          "execution_count": 232
        }
      ]
    },
    {
      "cell_type": "code",
      "metadata": {
        "colab": {
          "base_uri": "https://localhost:8080/"
        },
        "id": "Pt_bR2H01hqq",
        "outputId": "4ac1bb4d-369e-4e77-ea02-bfeb495ac635"
      },
      "source": [
        "r.width"
      ],
      "execution_count": null,
      "outputs": [
        {
          "output_type": "stream",
          "name": "stdout",
          "text": [
            "I am going to get executed\n"
          ]
        },
        {
          "output_type": "execute_result",
          "data": {
            "text/plain": [
              "1.4"
            ]
          },
          "metadata": {},
          "execution_count": 237
        }
      ]
    },
    {
      "cell_type": "code",
      "metadata": {
        "colab": {
          "base_uri": "https://localhost:8080/",
          "height": 171
        },
        "id": "PA-4bMTj1wx1",
        "outputId": "1e94bc40-d162-4430-e188-bb2751e1e4d0"
      },
      "source": [
        "r.width = -100"
      ],
      "execution_count": null,
      "outputs": [
        {
          "output_type": "error",
          "ename": "AttributeError",
          "evalue": "ignored",
          "traceback": [
            "\u001b[0;31m---------------------------------------------------------------------------\u001b[0m",
            "\u001b[0;31mAttributeError\u001b[0m                            Traceback (most recent call last)",
            "\u001b[0;32m<ipython-input-230-d5b67ca18fc5>\u001b[0m in \u001b[0;36m<module>\u001b[0;34m()\u001b[0m\n\u001b[0;32m----> 1\u001b[0;31m \u001b[0mr\u001b[0m\u001b[0;34m.\u001b[0m\u001b[0mwidth\u001b[0m \u001b[0;34m=\u001b[0m \u001b[0;34m-\u001b[0m\u001b[0;36m100\u001b[0m\u001b[0;34m\u001b[0m\u001b[0;34m\u001b[0m\u001b[0m\n\u001b[0m",
            "\u001b[0;31mAttributeError\u001b[0m: can't set attribute"
          ]
        }
      ]
    },
    {
      "cell_type": "code",
      "metadata": {
        "id": "g4-N917G15Qb"
      },
      "source": [
        "r._width = 10"
      ],
      "execution_count": null,
      "outputs": []
    },
    {
      "cell_type": "code",
      "metadata": {
        "colab": {
          "base_uri": "https://localhost:8080/"
        },
        "id": "8eGpR2dH2ZRH",
        "outputId": "c8ee633e-3d61-444c-e939-bd54ce1cbab8"
      },
      "source": [
        "def deco(fn):\n",
        "  print(\"Authenticated\")\n",
        "  return fn\n",
        "\n",
        "def func(n, auth):\n",
        "  return n/10\n",
        "  \n",
        "deco(func)(100)"
      ],
      "execution_count": null,
      "outputs": [
        {
          "output_type": "stream",
          "name": "stdout",
          "text": [
            "Authenticated\n"
          ]
        },
        {
          "output_type": "execute_result",
          "data": {
            "text/plain": [
              "10.0"
            ]
          },
          "metadata": {},
          "execution_count": 240
        }
      ]
    },
    {
      "cell_type": "code",
      "metadata": {
        "colab": {
          "base_uri": "https://localhost:8080/"
        },
        "id": "lKirx7Tc4WYU",
        "outputId": "a7bb7b3d-3ad1-42e4-aedd-70af8066bfcc"
      },
      "source": [
        "func = deco(func)\n",
        "\n",
        "# @deco\n",
        "#  def func"
      ],
      "execution_count": null,
      "outputs": [
        {
          "output_type": "stream",
          "name": "stdout",
          "text": [
            "Authenticated\n"
          ]
        }
      ]
    },
    {
      "cell_type": "code",
      "metadata": {
        "colab": {
          "base_uri": "https://localhost:8080/"
        },
        "id": "fi4g2BKZ4a9O",
        "outputId": "7546b6a5-f2c5-4ed3-a8e8-d8c7cda584f3"
      },
      "source": [
        "func(10)"
      ],
      "execution_count": null,
      "outputs": [
        {
          "output_type": "execute_result",
          "data": {
            "text/plain": [
              "1.0"
            ]
          },
          "metadata": {},
          "execution_count": 242
        }
      ]
    },
    {
      "cell_type": "code",
      "metadata": {
        "colab": {
          "base_uri": "https://localhost:8080/"
        },
        "id": "lmxd9WdW4uaY",
        "outputId": "d5714330-6001-4949-87e8-8296d59e48a7"
      },
      "source": [
        "class Rectangle:\n",
        "  def __init__(self, width, height):\n",
        "    self._width = width\n",
        "    self._height = height\n",
        "\n",
        "  def __repr__(self):\n",
        "    return f'Rectange({self._height},{self._width})'\n",
        "\n",
        "  @property\n",
        "  def width(self):\n",
        "    return self._width\n",
        "\n",
        "  @width.setter\n",
        "  def width(self, width):\n",
        "    if width < 0:\n",
        "      raise ValueError('Width must be positive dude!')\n",
        "    else:\n",
        "      self._width = width\n",
        "\n",
        "  @property\n",
        "  def height(self):\n",
        "    return self._height\n",
        "\n",
        "  @height.setter\n",
        "  def height(self, height):\n",
        "    if height < 0:\n",
        "      raise ValueError('height must be positive dude!')\n",
        "    else:\n",
        "      self._height = height\n",
        "\n",
        "r = Rectangle(1.4, -100)\n",
        "r"
      ],
      "execution_count": null,
      "outputs": [
        {
          "output_type": "execute_result",
          "data": {
            "text/plain": [
              "Rectange(-100,1.4)"
            ]
          },
          "metadata": {},
          "execution_count": 251
        }
      ]
    },
    {
      "cell_type": "code",
      "metadata": {
        "colab": {
          "base_uri": "https://localhost:8080/"
        },
        "id": "6vj-ZKPk5NIo",
        "outputId": "ee8872a8-b216-4833-ef69-0a048aee5f8d"
      },
      "source": [
        "r.height"
      ],
      "execution_count": null,
      "outputs": [
        {
          "output_type": "execute_result",
          "data": {
            "text/plain": [
              "-100"
            ]
          },
          "metadata": {},
          "execution_count": 252
        }
      ]
    },
    {
      "cell_type": "code",
      "metadata": {
        "colab": {
          "base_uri": "https://localhost:8080/",
          "height": 297
        },
        "id": "iBxTLuSd5OMU",
        "outputId": "3e2cce30-0e6f-48f4-ccce-34524a526420"
      },
      "source": [
        "r.height = -100"
      ],
      "execution_count": null,
      "outputs": [
        {
          "output_type": "error",
          "ename": "ValueError",
          "evalue": "ignored",
          "traceback": [
            "\u001b[0;31m---------------------------------------------------------------------------\u001b[0m",
            "\u001b[0;31mValueError\u001b[0m                                Traceback (most recent call last)",
            "\u001b[0;32m<ipython-input-250-8f0dd7959c96>\u001b[0m in \u001b[0;36m<module>\u001b[0;34m()\u001b[0m\n\u001b[0;32m----> 1\u001b[0;31m \u001b[0mr\u001b[0m\u001b[0;34m.\u001b[0m\u001b[0mheight\u001b[0m \u001b[0;34m=\u001b[0m \u001b[0;34m-\u001b[0m\u001b[0;36m100\u001b[0m\u001b[0;34m\u001b[0m\u001b[0;34m\u001b[0m\u001b[0m\n\u001b[0m",
            "\u001b[0;32m<ipython-input-248-08ee083df938>\u001b[0m in \u001b[0;36mheight\u001b[0;34m(self, height)\u001b[0m\n\u001b[1;32m     25\u001b[0m   \u001b[0;32mdef\u001b[0m \u001b[0mheight\u001b[0m\u001b[0;34m(\u001b[0m\u001b[0mself\u001b[0m\u001b[0;34m,\u001b[0m \u001b[0mheight\u001b[0m\u001b[0;34m)\u001b[0m\u001b[0;34m:\u001b[0m\u001b[0;34m\u001b[0m\u001b[0;34m\u001b[0m\u001b[0m\n\u001b[1;32m     26\u001b[0m     \u001b[0;32mif\u001b[0m \u001b[0mheight\u001b[0m \u001b[0;34m<\u001b[0m \u001b[0;36m0\u001b[0m\u001b[0;34m:\u001b[0m\u001b[0;34m\u001b[0m\u001b[0;34m\u001b[0m\u001b[0m\n\u001b[0;32m---> 27\u001b[0;31m       \u001b[0;32mraise\u001b[0m \u001b[0mValueError\u001b[0m\u001b[0;34m(\u001b[0m\u001b[0;34m'height must be positive dude!'\u001b[0m\u001b[0;34m)\u001b[0m\u001b[0;34m\u001b[0m\u001b[0;34m\u001b[0m\u001b[0m\n\u001b[0m\u001b[1;32m     28\u001b[0m     \u001b[0;32melse\u001b[0m\u001b[0;34m:\u001b[0m\u001b[0;34m\u001b[0m\u001b[0;34m\u001b[0m\u001b[0m\n\u001b[1;32m     29\u001b[0m       \u001b[0mself\u001b[0m\u001b[0;34m.\u001b[0m\u001b[0m_height\u001b[0m \u001b[0;34m=\u001b[0m \u001b[0mheight\u001b[0m\u001b[0;34m\u001b[0m\u001b[0;34m\u001b[0m\u001b[0m\n",
            "\u001b[0;31mValueError\u001b[0m: height must be positive dude!"
          ]
        }
      ]
    },
    {
      "cell_type": "code",
      "metadata": {
        "id": "tPrCBfBj5Wdq"
      },
      "source": [
        "class Rectangle:\n",
        "  def __init__(self, width, height):\n",
        "    self._width = width\n",
        "    self._height = height\n",
        "    self.height = height\n",
        "    self.width = width\n",
        "    \n",
        "\n",
        "  def __repr__(self):\n",
        "    print(id(self))\n",
        "    return f'Rectange({self._height},{self._width})'\n",
        "\n",
        "  @property\n",
        "  def width(self):\n",
        "    return self._width\n",
        "\n",
        "  @width.setter\n",
        "  def width(self, width):\n",
        "    if width < 0:\n",
        "      raise ValueError('Width must be positive dude!')\n",
        "    else:\n",
        "      self._width = width\n",
        "\n",
        "  @property\n",
        "  def height(self):\n",
        "    return self._height\n",
        "\n",
        "  @height.setter\n",
        "  def height(self, height):\n",
        "    if height < 0:\n",
        "      raise ValueError('height must be positive dude!')\n",
        "    else:\n",
        "      self._height = height"
      ],
      "execution_count": null,
      "outputs": []
    },
    {
      "cell_type": "code",
      "metadata": {
        "id": "33V9ksan5qjV"
      },
      "source": [
        "r = Rectangle(10, 10)"
      ],
      "execution_count": null,
      "outputs": []
    },
    {
      "cell_type": "code",
      "metadata": {
        "colab": {
          "base_uri": "https://localhost:8080/"
        },
        "id": "Qt8N6pFI5vhA",
        "outputId": "a33218ce-882b-4200-cef2-734653713970"
      },
      "source": [
        "r"
      ],
      "execution_count": null,
      "outputs": [
        {
          "output_type": "stream",
          "name": "stdout",
          "text": [
            "140122653685584\n"
          ]
        },
        {
          "output_type": "execute_result",
          "data": {
            "text/plain": [
              "Rectange(10,10)"
            ]
          },
          "metadata": {},
          "execution_count": 259
        }
      ]
    },
    {
      "cell_type": "code",
      "metadata": {
        "colab": {
          "base_uri": "https://localhost:8080/"
        },
        "id": "QIHu-LSE59D5",
        "outputId": "1f2caf13-c822-44f7-9547-828f03b8219f"
      },
      "source": [
        "id(r)"
      ],
      "execution_count": null,
      "outputs": [
        {
          "output_type": "execute_result",
          "data": {
            "text/plain": [
              "140122653685584"
            ]
          },
          "metadata": {},
          "execution_count": 260
        }
      ]
    },
    {
      "cell_type": "code",
      "metadata": {
        "id": "wA3cUMSl6Aa-"
      },
      "source": [
        "class Rectangle:\n",
        "  def __init__(self, width, height):\n",
        "    self._width = width\n",
        "    self._height = height\n",
        "    self.height = height\n",
        "    self.width = width\n",
        "\n",
        "  def area():\n",
        "    return self.width, self.height\n",
        "    \n",
        "\n",
        "  def __repr__(self):\n",
        "    print(id(self))\n",
        "    return f'Rectange({self._height},{self._width})'\n",
        "\n",
        "  @property\n",
        "  def width(self):\n",
        "    return self._width\n",
        "\n",
        "  @width.setter\n",
        "  def width(self, width):\n",
        "    if width < 0:\n",
        "      raise ValueError('Width must be positive dude!')\n",
        "    else:\n",
        "      self._width = width\n",
        "\n",
        "  @property\n",
        "  def height(self):\n",
        "    return self._height\n",
        "\n",
        "  @height.setter\n",
        "  def height(self, height):\n",
        "    if height < 0:\n",
        "      raise ValueError('height must be positive dude!')\n",
        "    else:\n",
        "      self._height = height"
      ],
      "execution_count": null,
      "outputs": []
    },
    {
      "cell_type": "code",
      "metadata": {
        "id": "MPBGIKhb62c4"
      },
      "source": [
        "r = Rectangle(10, 20.4)\n"
      ],
      "execution_count": null,
      "outputs": []
    },
    {
      "cell_type": "code",
      "metadata": {
        "colab": {
          "base_uri": "https://localhost:8080/",
          "height": 171
        },
        "id": "3bu2GXhD65Yk",
        "outputId": "5e5fadf7-1878-4a13-fb51-dc1ccf02de17"
      },
      "source": [
        "r.height()"
      ],
      "execution_count": null,
      "outputs": [
        {
          "output_type": "error",
          "ename": "TypeError",
          "evalue": "ignored",
          "traceback": [
            "\u001b[0;31m---------------------------------------------------------------------------\u001b[0m",
            "\u001b[0;31mTypeError\u001b[0m                                 Traceback (most recent call last)",
            "\u001b[0;32m<ipython-input-274-c39209417466>\u001b[0m in \u001b[0;36m<module>\u001b[0;34m()\u001b[0m\n\u001b[0;32m----> 1\u001b[0;31m \u001b[0mr\u001b[0m\u001b[0;34m.\u001b[0m\u001b[0mheight\u001b[0m\u001b[0;34m(\u001b[0m\u001b[0;34m)\u001b[0m\u001b[0;34m\u001b[0m\u001b[0;34m\u001b[0m\u001b[0m\n\u001b[0m",
            "\u001b[0;31mTypeError\u001b[0m: 'float' object is not callable"
          ]
        }
      ]
    },
    {
      "cell_type": "code",
      "metadata": {
        "colab": {
          "base_uri": "https://localhost:8080/",
          "height": 207
        },
        "id": "p2ymiMwX66SD",
        "outputId": "5d844fec-5a21-4cea-91e2-4cd953480b9b"
      },
      "source": [
        "def area():\n",
        "  pass\n",
        "\n",
        "area(10)"
      ],
      "execution_count": null,
      "outputs": [
        {
          "output_type": "error",
          "ename": "TypeError",
          "evalue": "ignored",
          "traceback": [
            "\u001b[0;31m---------------------------------------------------------------------------\u001b[0m",
            "\u001b[0;31mTypeError\u001b[0m                                 Traceback (most recent call last)",
            "\u001b[0;32m<ipython-input-270-807d61fe6d80>\u001b[0m in \u001b[0;36m<module>\u001b[0;34m()\u001b[0m\n\u001b[1;32m      2\u001b[0m   \u001b[0;32mpass\u001b[0m\u001b[0;34m\u001b[0m\u001b[0;34m\u001b[0m\u001b[0m\n\u001b[1;32m      3\u001b[0m \u001b[0;34m\u001b[0m\u001b[0m\n\u001b[0;32m----> 4\u001b[0;31m \u001b[0marea\u001b[0m\u001b[0;34m(\u001b[0m\u001b[0;36m10\u001b[0m\u001b[0;34m)\u001b[0m\u001b[0;34m\u001b[0m\u001b[0;34m\u001b[0m\u001b[0m\n\u001b[0m",
            "\u001b[0;31mTypeError\u001b[0m: area() takes 0 positional arguments but 1 was given"
          ]
        }
      ]
    },
    {
      "cell_type": "code",
      "metadata": {
        "colab": {
          "base_uri": "https://localhost:8080/",
          "height": 189
        },
        "id": "6kk6e7aV7TlV",
        "outputId": "abbabc3f-8b30-494c-e3ad-6fec3bcc9402"
      },
      "source": [
        "a = 1.0\n",
        "a()"
      ],
      "execution_count": null,
      "outputs": [
        {
          "output_type": "error",
          "ename": "TypeError",
          "evalue": "ignored",
          "traceback": [
            "\u001b[0;31m---------------------------------------------------------------------------\u001b[0m",
            "\u001b[0;31mTypeError\u001b[0m                                 Traceback (most recent call last)",
            "\u001b[0;32m<ipython-input-275-2853e03be0e5>\u001b[0m in \u001b[0;36m<module>\u001b[0;34m()\u001b[0m\n\u001b[1;32m      1\u001b[0m \u001b[0ma\u001b[0m \u001b[0;34m=\u001b[0m \u001b[0;36m1.0\u001b[0m\u001b[0;34m\u001b[0m\u001b[0;34m\u001b[0m\u001b[0m\n\u001b[0;32m----> 2\u001b[0;31m \u001b[0ma\u001b[0m\u001b[0;34m(\u001b[0m\u001b[0;34m)\u001b[0m\u001b[0;34m\u001b[0m\u001b[0;34m\u001b[0m\u001b[0m\n\u001b[0m",
            "\u001b[0;31mTypeError\u001b[0m: 'float' object is not callable"
          ]
        }
      ]
    },
    {
      "cell_type": "code",
      "metadata": {
        "colab": {
          "base_uri": "https://localhost:8080/"
        },
        "id": "uynH3p217nUv",
        "outputId": "24f44e45-41f5-40ff-9eb7-6d9436159079"
      },
      "source": [
        "class Rec:\n",
        "  def __init__(self, a, b):\n",
        "    self.a = a\n",
        "    self.b = b\n",
        "\n",
        "  def return_5(self):\n",
        "    return 5\n",
        "\n",
        "  def calculate_product(self):\n",
        "    return self.return_5() * self.a * self.b\n",
        "\n",
        "  def return_10():\n",
        "    return 10\n",
        "\n",
        "r = Rec(10, 20)\n",
        "r.calculate_product()"
      ],
      "execution_count": null,
      "outputs": [
        {
          "output_type": "execute_result",
          "data": {
            "text/plain": [
              "1000"
            ]
          },
          "metadata": {},
          "execution_count": 278
        }
      ]
    },
    {
      "cell_type": "code",
      "metadata": {
        "colab": {
          "base_uri": "https://localhost:8080/"
        },
        "id": "zxeYXkE_8FcT",
        "outputId": "51dd46de-1ad7-4419-8223-dd7253e32c53"
      },
      "source": [
        "Rec.return_10()"
      ],
      "execution_count": null,
      "outputs": [
        {
          "output_type": "execute_result",
          "data": {
            "text/plain": [
              "10"
            ]
          },
          "metadata": {},
          "execution_count": 279
        }
      ]
    },
    {
      "cell_type": "code",
      "metadata": {
        "colab": {
          "base_uri": "https://localhost:8080/",
          "height": 171
        },
        "id": "cIQKH6DP8PYD",
        "outputId": "8b89f847-3cf7-45be-dd80-7f2404e8622b"
      },
      "source": [
        "r.return_10()"
      ],
      "execution_count": null,
      "outputs": [
        {
          "output_type": "error",
          "ename": "TypeError",
          "evalue": "ignored",
          "traceback": [
            "\u001b[0;31m---------------------------------------------------------------------------\u001b[0m",
            "\u001b[0;31mTypeError\u001b[0m                                 Traceback (most recent call last)",
            "\u001b[0;32m<ipython-input-280-1a1bead21f59>\u001b[0m in \u001b[0;36m<module>\u001b[0;34m()\u001b[0m\n\u001b[0;32m----> 1\u001b[0;31m \u001b[0mr\u001b[0m\u001b[0;34m.\u001b[0m\u001b[0mreturn_10\u001b[0m\u001b[0;34m(\u001b[0m\u001b[0;34m)\u001b[0m\u001b[0;34m\u001b[0m\u001b[0;34m\u001b[0m\u001b[0m\n\u001b[0m",
            "\u001b[0;31mTypeError\u001b[0m: return_10() takes 0 positional arguments but 1 was given"
          ]
        }
      ]
    },
    {
      "cell_type": "code",
      "metadata": {
        "id": "gKpSL_fg8Tl_"
      },
      "source": [
        "def outer():\n",
        "  i = 0\n",
        "  def counter():\n",
        "    nonlocal i\n",
        "    i += 1\n",
        "    return i\n",
        "  return counter"
      ],
      "execution_count": null,
      "outputs": []
    },
    {
      "cell_type": "code",
      "metadata": {
        "colab": {
          "base_uri": "https://localhost:8080/"
        },
        "id": "tqTIEpyl9ecc",
        "outputId": "668cd6c3-b915-43fc-fbcb-ee3f519421f8"
      },
      "source": [
        "counter = outer()\n",
        "counter()"
      ],
      "execution_count": null,
      "outputs": [
        {
          "output_type": "execute_result",
          "data": {
            "text/plain": [
              "1"
            ]
          },
          "metadata": {},
          "execution_count": 284
        }
      ]
    },
    {
      "cell_type": "code",
      "metadata": {
        "colab": {
          "base_uri": "https://localhost:8080/"
        },
        "id": "QkXJBzC59hET",
        "outputId": "930be0bf-1402-4bb3-c2e9-965e1947dce6"
      },
      "source": [
        "counter()\n",
        "counter()\n",
        "counter()\n",
        "counter()"
      ],
      "execution_count": null,
      "outputs": [
        {
          "output_type": "execute_result",
          "data": {
            "text/plain": [
              "5"
            ]
          },
          "metadata": {},
          "execution_count": 285
        }
      ]
    },
    {
      "cell_type": "code",
      "metadata": {
        "colab": {
          "base_uri": "https://localhost:8080/"
        },
        "id": "jt6qL-fD9lCy",
        "outputId": "4207f909-2dc4-44cb-e6fd-988c539dc455"
      },
      "source": [
        "i = \"school\"\n",
        "def outer():\n",
        "  i = \"rohan\"\n",
        "  def counter():\n",
        "    i = \"sohan\"\n",
        "    def inner():\n",
        "      nonlocal i\n",
        "      print(i)\n",
        "    inner()\n",
        "  counter()\n",
        "\n",
        "outer()"
      ],
      "execution_count": null,
      "outputs": [
        {
          "output_type": "stream",
          "name": "stdout",
          "text": [
            "sohan\n"
          ]
        }
      ]
    },
    {
      "cell_type": "code",
      "metadata": {
        "id": "2MQ2AS4x97Lx"
      },
      "source": [
        ""
      ],
      "execution_count": null,
      "outputs": []
    }
  ]
}